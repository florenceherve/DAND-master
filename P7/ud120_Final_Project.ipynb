{
 "cells": [
  {
   "cell_type": "markdown",
   "metadata": {
    "deletable": true,
    "editable": true
   },
   "source": [
    "# Intro to Machine Learning - Final Project"
   ]
  },
  {
   "cell_type": "markdown",
   "metadata": {
    "deletable": true,
    "editable": true
   },
   "source": [
    "## Background & Research Question"
   ]
  },
  {
   "cell_type": "markdown",
   "metadata": {
    "deletable": true,
    "editable": true
   },
   "source": [
    "This notebook is part of the final project of the Udacity course \"Intro to Machine Learning\". In this notebook I'll apply the concepts learned in class to train several classifiers on the Enron data and and highlight the features most likely to indicate if a person is a POI (Person of Interest) in the Enron scandal, or not.\n",
    "\n",
    "More specifically, the dataset provided lists the information related to 146 Enron employees, including financial (salary, bonus, exercised stock options ...) and email features (number of emails sent from a POI to this person, or sent from this person to a POI). Out of those 146 employees, 34 of them are identified as POI.\n",
    "\n",
    "Here, I'll look at several of those characteristics to identify what factors made people more likely to be identified as a POI, and will train a POI-identifier to highlight those people from the initial dataset. Machine learning is particularly useful here, because we have several features that can impact if a person is a POI or not, and there is no straightforward answer to this; machine learning will help us identify the most relevant features and assign them relative weights depending on their importance in predicting the correct result.\n",
    "\n",
    "**Research question: What factors made people more likely to be identified as a POI?**"
   ]
  },
  {
   "cell_type": "markdown",
   "metadata": {
    "deletable": true,
    "editable": true
   },
   "source": [
    "## Get Started"
   ]
  },
  {
   "cell_type": "code",
   "execution_count": 1,
   "metadata": {
    "collapsed": false,
    "deletable": true,
    "editable": true
   },
   "outputs": [
    {
     "name": "stderr",
     "output_type": "stream",
     "text": [
      "C:\\Users\\Flo\\Anaconda2\\lib\\site-packages\\sklearn\\cross_validation.py:44: DeprecationWarning: This module was deprecated in version 0.18 in favor of the model_selection module into which all the refactored classes and functions are moved. Also note that the interface of the new CV iterators are different from that of this module. This module will be removed in 0.20.\n",
      "  \"This module will be removed in 0.20.\", DeprecationWarning)\n"
     ]
    }
   ],
   "source": [
    "# Imports - to run first:\n",
    "\n",
    "import os\n",
    "import sys\n",
    "import nltk\n",
    "import scipy\n",
    "import sklearn\n",
    "import numpy as np\n",
    "import pandas as pd\n",
    "import matplotlib\n",
    "import matplotlib.pyplot as plt\n",
    "\n",
    "from time import time\n",
    "from sklearn.metrics import accuracy_score\n",
    "from sklearn.feature_selection import SelectKBest, f_classif\n",
    "from sklearn.tree import DecisionTreeClassifier #decision tree\n",
    "from sklearn.cross_validation import train_test_split #for splitting the data into training and test sets\n",
    "\n",
    "# For evaluation metrics:\n",
    "from sklearn.metrics import precision_score\n",
    "from sklearn.metrics import recall_score"
   ]
  },
  {
   "cell_type": "code",
   "execution_count": 2,
   "metadata": {
    "collapsed": false,
    "deletable": true,
    "editable": true
   },
   "outputs": [
    {
     "name": "stdout",
     "output_type": "stream",
     "text": [
      "C:\\Users\\Flo\\Downloads\\ud120-projects-master\\ud120-projects-master\\final_project\n"
     ]
    }
   ],
   "source": [
    "os.chdir(\"C:/Users/Flo/Downloads/ud120-projects-master/ud120-projects-master/final_project\")\n",
    "print os.getcwd()"
   ]
  },
  {
   "cell_type": "code",
   "execution_count": 3,
   "metadata": {
    "collapsed": true,
    "deletable": true,
    "editable": true
   },
   "outputs": [],
   "source": [
    "# %load poi_id.py\n",
    "#!/usr/bin/python\n",
    "\n",
    "import sys\n",
    "import pickle\n",
    "sys.path.append(\"../tools/\")\n",
    "\n",
    "from feature_format import featureFormat, targetFeatureSplit\n",
    "from tester import dump_classifier_and_data"
   ]
  },
  {
   "cell_type": "code",
   "execution_count": 4,
   "metadata": {
    "collapsed": true,
    "deletable": true,
    "editable": true
   },
   "outputs": [],
   "source": [
    "### Load the dictionary containing the dataset\n",
    "with open(\"final_project_dataset.pkl\", \"r\") as data_file:\n",
    "    data_dict = pickle.load(data_file)"
   ]
  },
  {
   "cell_type": "code",
   "execution_count": 5,
   "metadata": {
    "collapsed": false,
    "deletable": true,
    "editable": true
   },
   "outputs": [
    {
     "name": "stdout",
     "output_type": "stream",
     "text": [
      "{'salary': 1111258, 'to_messages': 3627, 'deferral_payments': 'NaN', 'total_payments': 8682716, 'exercised_stock_options': 19250000, 'bonus': 5600000, 'restricted_stock': 6843672, 'shared_receipt_with_poi': 2042, 'restricted_stock_deferred': 'NaN', 'total_stock_value': 26093672, 'expenses': 29336, 'loan_advances': 'NaN', 'from_messages': 108, 'other': 22122, 'from_this_person_to_poi': 30, 'poi': True, 'director_fees': 'NaN', 'deferred_income': 'NaN', 'long_term_incentive': 1920000, 'email_address': 'jeff.skilling@enron.com', 'from_poi_to_this_person': 88}\n"
     ]
    }
   ],
   "source": [
    "print data_dict[\"SKILLING JEFFREY K\"]"
   ]
  },
  {
   "cell_type": "markdown",
   "metadata": {
    "deletable": true,
    "editable": true
   },
   "source": [
    "## Task 1 - Feature Selection"
   ]
  },
  {
   "cell_type": "markdown",
   "metadata": {
    "deletable": true,
    "editable": true
   },
   "source": [
    "The features are divided into two categories: financial features and email features. Let's concatenate the two in our final features list, to include all features in the dataset before looking into the outliers. We'll take care of fine-tuning that feature selection in the next steps."
   ]
  },
  {
   "cell_type": "code",
   "execution_count": 6,
   "metadata": {
    "collapsed": false,
    "deletable": true,
    "editable": true
   },
   "outputs": [
    {
     "name": "stdout",
     "output_type": "stream",
     "text": [
      "['poi', 'salary', 'deferral_payments', 'total_payments', 'loan_advances', 'bonus', 'restricted_stock_deferred', 'deferred_income', 'total_stock_value', 'expenses', 'exercised_stock_options', 'other', 'long_term_incentive', 'restricted_stock', 'director_fees', 'to_messages', 'from_poi_to_this_person', 'from_messages', 'from_this_person_to_poi', 'shared_receipt_with_poi']\n"
     ]
    }
   ],
   "source": [
    "### Task 1: Select what features you'll use.\n",
    "### features_list is a list of strings, each of which is a feature name.\n",
    "### The first feature must be \"poi\".\n",
    "\n",
    "financial_features= ['salary', 'deferral_payments', 'total_payments', 'loan_advances', 'bonus', 'restricted_stock_deferred', 'deferred_income', 'total_stock_value', 'expenses', 'exercised_stock_options', 'other', 'long_term_incentive', 'restricted_stock', 'director_fees']\n",
    "email_features= ['to_messages', 'from_poi_to_this_person', 'from_messages', 'from_this_person_to_poi', 'shared_receipt_with_poi']\n",
    "poi_label = ['poi']\n",
    "\n",
    "features_list = poi_label + financial_features + email_features\n",
    "print features_list"
   ]
  },
  {
   "cell_type": "markdown",
   "metadata": {
    "deletable": true,
    "editable": true
   },
   "source": [
    "## Task 2 - Remove Outliers"
   ]
  },
  {
   "cell_type": "markdown",
   "metadata": {
    "deletable": true,
    "editable": true
   },
   "source": [
    "### Methodology - From the forum:"
   ]
  },
  {
   "cell_type": "markdown",
   "metadata": {
    "deletable": true,
    "editable": true
   },
   "source": [
    "\"In this case, you are working with the Enron data, and the regression method is not quite appropriate. One reason for this is that the dependent variable here is POI, which is not continuous (so regular linear regression is not as meaningful). Another problem is that extreme values, such as high salaries or bonuses, might in some cases be well correlated with POIs. We definitely do not want to remove them all if this is the case, since then we would lose predictive power.\n",
    "\n",
    "There are many other kinds of outliers in this data set that you can look for. Extreme values might be one kind, but missing or inaccurate data can represent another kind of outlier. There are a few strategies that you can use to find these kinds of outliers, but one simple way is to look at the distribution of values for each variable and examine records with extreme or missing values. The data set used here is extremely small, so a manual inspection of any record should be performed before removing it from the data.\"\n",
    "\n",
    "https://discussions.udacity.com/t/confused-about-feature-selection-and-outliers/25018/12"
   ]
  },
  {
   "cell_type": "markdown",
   "metadata": {
    "deletable": true,
    "editable": true
   },
   "source": [
    "### My observations:"
   ]
  },
  {
   "cell_type": "markdown",
   "metadata": {
    "deletable": true,
    "editable": true
   },
   "source": [
    "Manual data screening from the pdf document:\n",
    "- The line for Eugene Lockhart has no values - are there others?\n",
    "- \"The Travel agency in the park\" and \"Total\" lines are irrelevant.\n",
    "- Lines with only one or two datapoints: Wendy Gramm, Mark Pickering, Jim Piro ...: if we exclude the total columns, how many lines have only 1 or 2 values filled?\n",
    "- Column \"Loan Advances\" has only a handful of data points, making it a potential irrelevant feature; however, by far the biggest value for this field is 81.5 million under the name Kenneth Lay... should we consider this as a possible POI identifying feature, even for only one datapoint?"
   ]
  },
  {
   "cell_type": "code",
   "execution_count": 7,
   "metadata": {
    "collapsed": false,
    "deletable": true,
    "editable": true
   },
   "outputs": [
    {
     "data": {
      "image/png": "[encoded data removed]",
      "text/plain": [
       "<matplotlib.figure.Figure at 0xc508588>"
      ]
     },
     "metadata": {},
     "output_type": "display_data"
    }
   ],
   "source": [
    "### Task 2: Remove outliers\n",
    "### Visualize outliers\n",
    "features = ['salary', 'total_payments']\n",
    "data = featureFormat(data_dict,features)\n",
    "\n",
    "for point in data:\n",
    "    salary = point[0]\n",
    "    total_payments = point[1]\n",
    "    matplotlib.pyplot.scatter(total_payments, salary)\n",
    "\n",
    "matplotlib.pyplot.xlabel(\"total_payments\")\n",
    "matplotlib.pyplot.ylabel(\"salary\")\n",
    "matplotlib.pyplot.show()"
   ]
  },
  {
   "cell_type": "markdown",
   "metadata": {
    "deletable": true,
    "editable": true
   },
   "source": [
    "Those two big outliers (grey and black points) are caused by the Total and The Travel Agency in the Park lines. Let's remove them from our dataset and visualize again:"
   ]
  },
  {
   "cell_type": "code",
   "execution_count": 8,
   "metadata": {
    "collapsed": false,
    "deletable": true,
    "editable": true
   },
   "outputs": [
    {
     "data": {
      "text/plain": [
       "{'bonus': 'NaN',\n",
       " 'deferral_payments': 'NaN',\n",
       " 'deferred_income': 'NaN',\n",
       " 'director_fees': 'NaN',\n",
       " 'email_address': 'NaN',\n",
       " 'exercised_stock_options': 'NaN',\n",
       " 'expenses': 'NaN',\n",
       " 'from_messages': 'NaN',\n",
       " 'from_poi_to_this_person': 'NaN',\n",
       " 'from_this_person_to_poi': 'NaN',\n",
       " 'loan_advances': 'NaN',\n",
       " 'long_term_incentive': 'NaN',\n",
       " 'other': 362096,\n",
       " 'poi': False,\n",
       " 'restricted_stock': 'NaN',\n",
       " 'restricted_stock_deferred': 'NaN',\n",
       " 'salary': 'NaN',\n",
       " 'shared_receipt_with_poi': 'NaN',\n",
       " 'to_messages': 'NaN',\n",
       " 'total_payments': 362096,\n",
       " 'total_stock_value': 'NaN'}"
      ]
     },
     "execution_count": 8,
     "metadata": {},
     "output_type": "execute_result"
    }
   ],
   "source": [
    "### Delete \"Total\" and \"The Travel Agency in the Park\" lines\n",
    "data_dict.pop(\"TOTAL\",0)\n",
    "data_dict.pop(\"THE TRAVEL AGENCY IN THE PARK\",0)"
   ]
  },
  {
   "cell_type": "code",
   "execution_count": 9,
   "metadata": {
    "collapsed": false,
    "deletable": true,
    "editable": true
   },
   "outputs": [
    {
     "data": {
      "image/png": "[encoded data removed]",
      "text/plain": [
       "<matplotlib.figure.Figure at 0xca8e9e8>"
      ]
     },
     "metadata": {},
     "output_type": "display_data"
    }
   ],
   "source": [
    "### Visualize new scatterplot with the those two outliers removed\n",
    "data = featureFormat(data_dict,features)\n",
    "\n",
    "for point in data:\n",
    "    salary = point[0]\n",
    "    total_payments = point[1]\n",
    "    matplotlib.pyplot.scatter(total_payments, salary)\n",
    "\n",
    "matplotlib.pyplot.xlabel(\"total_payments\")\n",
    "matplotlib.pyplot.ylabel(\"salary\")\n",
    "matplotlib.pyplot.show()"
   ]
  },
  {
   "cell_type": "markdown",
   "metadata": {
    "deletable": true,
    "editable": true
   },
   "source": [
    "Now that we zoomed in on the actual data points, we see we still have a few outliers. Let's check if they are real outliers (= we should remove them as well) or useful in our analysis (= data points of real Enron employees having an exceptionally large salary).\n",
    "- Brown data point: associated with total_payments > 100 millions and salary > 1 million: LAY, KENNETH L.\n",
    "- Grey data point: total_payments ~ 20 millions and salary > 1 million: FREVERT, MARK A.\n",
    "- Blue data point: total_payments ~ 10 millions and salary > 1 million: SKILLING, JEFFREY K.\n",
    "\n",
    "Those outliers are valid data points, we'll keep them."
   ]
  },
  {
   "cell_type": "code",
   "execution_count": 10,
   "metadata": {
    "collapsed": false,
    "deletable": true,
    "editable": true
   },
   "outputs": [
    {
     "name": "stdout",
     "output_type": "stream",
     "text": [
      "CHAN RONNIE False NaN\n",
      "POWERS WILLIAM False 653\n",
      "LOCKHART EUGENE E False NaN\n"
     ]
    }
   ],
   "source": [
    "### Identify lines with no values:\n",
    "for person in data_dict:\n",
    "    if data_dict[person][\"total_payments\"] == \"NaN\":\n",
    "        if data_dict[person][\"total_stock_value\"] == \"NaN\":\n",
    "            print person, data_dict[person][\"poi\"], data_dict[person]['to_messages']"
   ]
  },
  {
   "cell_type": "markdown",
   "metadata": {
    "deletable": true,
    "editable": true
   },
   "source": [
    "Those three lines have a null or undefined total_payments and total_stock_value. All three of them are non-POI. However, one (William Powers) sent over 653 emails to a POI person, and the two others zero. \n",
    "Should we remove those data points?\n",
    "If we keep them, it will teach our classifier that 'NaN' values are associated with non-POI. Is it a bad thing though? In those cases, the three are still Enron employees, and it is unlikely that they really did not get any salary; I'd argue the values are missing in our dataset, while others (related to emails) may not. I would not want my classifier to think that missing data on the salary side means that they are non-POIs. I'll remove those three lines as well:"
   ]
  },
  {
   "cell_type": "code",
   "execution_count": 11,
   "metadata": {
    "collapsed": false,
    "deletable": true,
    "editable": true
   },
   "outputs": [
    {
     "data": {
      "text/plain": [
       "{'bonus': 'NaN',\n",
       " 'deferral_payments': 'NaN',\n",
       " 'deferred_income': 'NaN',\n",
       " 'director_fees': 'NaN',\n",
       " 'email_address': 'NaN',\n",
       " 'exercised_stock_options': 'NaN',\n",
       " 'expenses': 'NaN',\n",
       " 'from_messages': 'NaN',\n",
       " 'from_poi_to_this_person': 'NaN',\n",
       " 'from_this_person_to_poi': 'NaN',\n",
       " 'loan_advances': 'NaN',\n",
       " 'long_term_incentive': 'NaN',\n",
       " 'other': 'NaN',\n",
       " 'poi': False,\n",
       " 'restricted_stock': 'NaN',\n",
       " 'restricted_stock_deferred': 'NaN',\n",
       " 'salary': 'NaN',\n",
       " 'shared_receipt_with_poi': 'NaN',\n",
       " 'to_messages': 'NaN',\n",
       " 'total_payments': 'NaN',\n",
       " 'total_stock_value': 'NaN'}"
      ]
     },
     "execution_count": 11,
     "metadata": {},
     "output_type": "execute_result"
    }
   ],
   "source": [
    "# Delete null lines\n",
    "data_dict.pop(\"CHAN RONNIE\",0)\n",
    "data_dict.pop(\"POWERS WILLIAM\",0)\n",
    "data_dict.pop(\"LOCKHART EUGENE E\",0)"
   ]
  },
  {
   "cell_type": "code",
   "execution_count": 12,
   "metadata": {
    "collapsed": false,
    "deletable": true,
    "editable": true
   },
   "outputs": [
    {
     "data": {
      "image/png": "[encoded data removed]",
      "text/plain": [
       "<matplotlib.figure.Figure at 0xd07a9e8>"
      ]
     },
     "metadata": {},
     "output_type": "display_data"
    }
   ],
   "source": [
    "### Visualize salary vs loan advances\n",
    "features = ['salary', 'loan_advances', 'poi']\n",
    "data = featureFormat(data_dict,features)\n",
    "\n",
    "for point in data:\n",
    "    salary = point[0]\n",
    "    loan_advances = point[1]\n",
    "    mark_poi = point[2]\n",
    "    if mark_poi:\n",
    "        color = 'red'\n",
    "    else:\n",
    "        color = 'blue'\n",
    "    matplotlib.pyplot.scatter(loan_advances, salary, color = color)\n",
    "\n",
    "matplotlib.pyplot.xlabel(\"loan_advances\")\n",
    "matplotlib.pyplot.ylabel(\"salary\")\n",
    "matplotlib.pyplot.show()\n"
   ]
  },
  {
   "cell_type": "markdown",
   "metadata": {
    "deletable": true,
    "editable": true
   },
   "source": [
    "The column \"loan_advances\" has only a handful of data points, making it a potential irrelevant feature; however, by far the biggest value for this field is 81.5 million under the name Kenneth Lay. I'd keep this feature as a potential POI identifier."
   ]
  },
  {
   "cell_type": "markdown",
   "metadata": {
    "deletable": true,
    "editable": true
   },
   "source": [
    "## Task 3 - Create New Feature(s) and Univariate Feature Selection"
   ]
  },
  {
   "cell_type": "markdown",
   "metadata": {
    "deletable": true,
    "editable": true
   },
   "source": [
    "### Create new features:"
   ]
  },
  {
   "cell_type": "markdown",
   "metadata": {
    "deletable": true,
    "editable": true
   },
   "source": [
    "Because we have less features related to the email dataset than the financial info in the Enron employees, I am going to create new features based on those emails variables: \n",
    "- fraction_to_poi = ratio of emails sent by this person to a POI / total emails sent by this person\n",
    "- fraction_from_poi = ratio of emails sent from a POI to this person / total emails received by this person\n",
    "- fraction_total_poi = ratio of emails sent involving POI (whether to or from) / total emails sent or received by this person"
   ]
  },
  {
   "cell_type": "markdown",
   "metadata": {},
   "source": [
    "**Note:**\n",
    "Creating new features using to/from POI emails can potentially raise validity questions: those to/from POI variables can only be built using the POI/non-POI identifiers, which can provoke some data leakage when we use the testing set.\n",
    "However, for the rest of this section I am choosing to still use those variables to create new features, as it would still be interesting to see how the relationships and connections between Enron employees can impact their POI potentiality.\n",
    "\n",
    "More on https://discussions.udacity.com/t/mistake-in-the-way-email-poi-features-are-engineered-in-the-course/4841/2"
   ]
  },
  {
   "cell_type": "code",
   "execution_count": 13,
   "metadata": {
    "collapsed": false,
    "deletable": true,
    "editable": true
   },
   "outputs": [],
   "source": [
    "### Task 3: Create new feature(s)\n",
    "### Store to my_dataset for easy export below.\n",
    "my_dataset = data_dict\n",
    "\n",
    "import math\n",
    "def computeFraction(ratio1, ratio2):\n",
    "    if math.isnan(float(ratio1)) == True:\n",
    "        fraction = 0.\n",
    "    if math.isnan(float(ratio2)) == True:\n",
    "        fraction = 0.\n",
    "    if ratio2 == 0:\n",
    "        fraction = 0.\n",
    "    else:\n",
    "        fraction = float(ratio1) / float(ratio2)\n",
    "    return fraction\n",
    "\n",
    "def addNumbers(add1, add2):\n",
    "    if str(add1).lower() == 'nan' and str(add2).lower() == 'nan':\n",
    "        add = 0.\n",
    "    if str(add1).lower() == 'nan':\n",
    "        add = float(add2)\n",
    "    if str(add2).lower() == 'nan':\n",
    "        add = float(add1)\n",
    "    if math.isnan(float(add1)) == True and math.isnan(float(add2)) == True:\n",
    "        add = 0.\n",
    "    if math.isnan(float(add1)) == True:\n",
    "        add = float(add2)\n",
    "    if math.isnan(float(add2)) == True:\n",
    "        add = float(add1)\n",
    "    else:\n",
    "        add = float(add1 + add2)\n",
    "    return add"
   ]
  },
  {
   "cell_type": "code",
   "execution_count": 14,
   "metadata": {
    "collapsed": false,
    "deletable": true,
    "editable": true
   },
   "outputs": [
    {
     "data": {
      "image/png": "[encoded data removed]",
      "text/plain": [
       "<matplotlib.figure.Figure at 0xd09d048>"
      ]
     },
     "metadata": {},
     "output_type": "display_data"
    }
   ],
   "source": [
    "for person in my_dataset:\n",
    "    mark_poi = my_dataset[person][\"poi\"]\n",
    "    #all_messages = my_dataset[person][\"from_messages\"] + my_dataset[person][\"to_messages\"]\n",
    "    #all_poi_messages = my_dataset[person][\"from_this_person_to_poi\"] + my_dataset[person][\"from_poi_to_this_person\"]\n",
    "    all_messages1 = addNumbers(my_dataset[person][\"from_messages\"], my_dataset[person][\"to_messages\"])\n",
    "    all_poi_messages1 = addNumbers(my_dataset[person][\"from_this_person_to_poi\"], my_dataset[person][\"from_poi_to_this_person\"])\n",
    "    fraction_to_poi = computeFraction(my_dataset[person][\"from_this_person_to_poi\"], my_dataset[person][\"from_messages\"])\n",
    "    fraction_from_poi = computeFraction(my_dataset[person][\"from_poi_to_this_person\"],my_dataset[person][\"to_messages\"])\n",
    "    fraction_total_poi = computeFraction(all_poi_messages1, all_messages1)\n",
    "    if mark_poi:\n",
    "        color = 'red'\n",
    "    else:\n",
    "        color = 'blue'\n",
    "    matplotlib.pyplot.scatter(fraction_from_poi, fraction_to_poi, color=color)\n",
    "     \n",
    "matplotlib.pyplot.xlabel(\"Fraction from POI\")\n",
    "matplotlib.pyplot.ylabel(\"Fraction to POI\")\n",
    "matplotlib.pyplot.show()\n",
    "\n",
    "for name in my_dataset.iteritems():\n",
    "    #all_messages = float(name[1]['to_messages']) + float(name[1]['from_messages'])\n",
    "    #all_poi_messages = float(name[1]['from_this_person_to_poi']) + float(name[1]['from_poi_to_this_person'])\n",
    "    all_messages2 = addNumbers(name[1]['to_messages'], name[1]['from_messages'])\n",
    "    all_poi_messages2 = addNumbers(name[1]['from_this_person_to_poi'], name[1]['from_poi_to_this_person'])\n",
    "    name[1]['fraction_to_poi'] = computeFraction(name[1]['from_this_person_to_poi'], name[1]['from_messages'])\n",
    "    name[1]['fraction_from_poi'] = computeFraction(name[1]['from_poi_to_this_person'], name[1]['to_messages'])\n",
    "    name[1]['fraction_total_poi'] = computeFraction(all_poi_messages2, all_messages2)"
   ]
  },
  {
   "cell_type": "code",
   "execution_count": 15,
   "metadata": {
    "collapsed": false,
    "deletable": true,
    "editable": true
   },
   "outputs": [],
   "source": [
    "import math\n",
    "\n",
    "for person in my_dataset:\n",
    "    if math.isnan(my_dataset[person]['fraction_to_poi']) == True:\n",
    "        my_dataset[person]['fraction_to_poi'] = 0.\n",
    "    if math.isnan(my_dataset[person]['fraction_from_poi']) == True:\n",
    "        my_dataset[person]['fraction_from_poi'] = 0.\n",
    "    if math.isnan(my_dataset[person]['fraction_total_poi']) == True:\n",
    "        my_dataset[person]['fraction_total_poi'] = 0."
   ]
  },
  {
   "cell_type": "markdown",
   "metadata": {
    "deletable": true,
    "editable": true
   },
   "source": [
    "Let's now evaluate how helpful those new features are in identifying POIs. To do this, we'll apply univariate feature selection to all our features, including the new ones, and rank them by feature importance score:"
   ]
  },
  {
   "cell_type": "markdown",
   "metadata": {
    "deletable": true,
    "editable": true
   },
   "source": [
    "### Univariate feature selection"
   ]
  },
  {
   "cell_type": "code",
   "execution_count": 16,
   "metadata": {
    "collapsed": false,
    "deletable": true,
    "editable": true
   },
   "outputs": [],
   "source": [
    "## Extract features and labels from dataset for local testing\n",
    "features_list = poi_label + financial_features + email_features + ['fraction_to_poi'] + ['fraction_from_poi'] + ['fraction_total_poi']\n",
    "\n",
    "data = featureFormat(my_dataset, features_list, sort_keys = True)\n",
    "labels, features = targetFeatureSplit(data)"
   ]
  },
  {
   "cell_type": "code",
   "execution_count": 17,
   "metadata": {
    "collapsed": false,
    "deletable": true,
    "editable": true
   },
   "outputs": [
    {
     "name": "stdout",
     "output_type": "stream",
     "text": [
      "salary\n",
      "4.33971279621\n",
      "deferral_payments\n",
      "0.204302456497\n",
      "total_payments\n",
      "2.39876190776\n",
      "loan_advances\n",
      "2.05681045231\n",
      "bonus\n",
      "4.84799807106\n",
      "restricted_stock_deferred\n",
      "0.0989839553933\n",
      "deferred_income\n",
      "2.98266064854\n",
      "total_stock_value\n",
      "5.50381457659\n",
      "expenses\n",
      "1.7646532732\n",
      "exercised_stock_options\n",
      "5.62629893236\n",
      "other\n",
      "1.34134574596\n",
      "long_term_incentive\n",
      "2.63289288988\n",
      "restricted_stock\n",
      "2.48316601388\n",
      "director_fees\n",
      "0.778269984842\n",
      "to_messages\n",
      "0.671085046022\n",
      "from_poi_to_this_person\n",
      "1.57956092627\n",
      "from_messages\n",
      "0.173009509987\n",
      "from_this_person_to_poi\n",
      "0.879272774071\n",
      "shared_receipt_with_poi\n",
      "2.33275443017\n",
      "fraction_to_poi\n",
      "3.97827831993\n",
      "fraction_from_poi\n",
      "1.05867622901\n",
      "fraction_total_poi\n",
      "1.60873442647\n"
     ]
    },
    {
     "data": {
      "image/png": "[encoded data removed]",
      "text/plain": [
       "<matplotlib.figure.Figure at 0xd5b06a0>"
      ]
     },
     "metadata": {},
     "output_type": "display_data"
    }
   ],
   "source": [
    "# Univariate feature selection: SelectKBest selects the K features that are most powerful (where K is a parameter).\n",
    "# Perform feature selection\n",
    "selector = SelectKBest(f_classif, k='all')\n",
    "selector = selector.fit(features, labels)\n",
    "\n",
    "# Get the raw p-values for each feature, and transform from p-values into scores\n",
    "scores = -np.log10(selector.pvalues_)\n",
    "for s in range(len(features_list) - 1):\n",
    "    print features_list[s+1]\n",
    "    print scores[s]\n",
    "\n",
    "# Print best features\n",
    "#features_selected = [features_list[i+1] for i in selector.get_support(indices=True)]\n",
    "#features_selected=selector.get_support()\n",
    "#best_features = []\n",
    "#for bool, feature in zip(features_selected, features_list):\n",
    "    #if bool:\n",
    "        #best_features.append(feature)\n",
    "#print best_features\n",
    "\n",
    "# Plot the scores.\n",
    "plt.bar(range(len(features_list)-1), scores)\n",
    "plt.xticks(range(len(features_list)-1), features_list[1:], rotation='vertical')\n",
    "plt.show()\n",
    "\n",
    "# Help:\n",
    "# https://datascience.stackexchange.com/questions/10773/how-does-selectkbest-work\n",
    "# https://stackoverflow.com/questions/39839112/the-easiest-way-for-getting-feature-names-after-running-selectkbest-in-scikit-le"
   ]
  },
  {
   "cell_type": "markdown",
   "metadata": {
    "deletable": true,
    "editable": true
   },
   "source": [
    "We see here that our fraction_to_poi feature seems quite helpful in determining if a person is a POI compared to the other email features, such as fraction_from_poi or from_this_person_to_poi. Maybe this new feature will make the cut to our final list of features."
   ]
  },
  {
   "cell_type": "markdown",
   "metadata": {
    "deletable": true,
    "editable": true
   },
   "source": [
    "There are two possible ways to use those feature importance scores in our feature selection:\n",
    "1. Previously, we selected k='all' in our selectKBest; we can now iterate over different values for k, with the value for k selected based on which value yielded the best precision/recall scores.\n",
    "2. We can perform the feature selection here, by defining a cut-off point based on where the scores drop-off significantly. We then keep all features above that cut-off point."
   ]
  },
  {
   "cell_type": "markdown",
   "metadata": {
    "deletable": true,
    "editable": true
   },
   "source": [
    "Here, I'm choosing to apply the first option. While it is quite clear from the above scores that 5 features are much more important than the others in identifying POIs (salary, bonus, total stock value, exercised stock options and fraction to POI have scores in between 3.9 and 5.6, while the 6th important feature - deferred income - has a score right below 3), I'll try to reach that conclusion with my classifiers. \n",
    "\n",
    "I'll set up different values for k and iterate over my 4 chosen classifiers below (Naive Bayes, decision tree, random forest, AdaBoost) and for each value of k I'll put below which algorithm was more efficient and what were its accuracy, precision and recall scores. After locking an optimal k value and a classifier, I'll proceed to check my intuition using GridSearchCV to identify the best parameters for the chosen classifier (should match my conclusion using different values of k)."
   ]
  },
  {
   "cell_type": "markdown",
   "metadata": {
    "deletable": true,
    "editable": true
   },
   "source": [
    "For k = 'all':\n",
    "    1. best classifier: Naive Bayes\n",
    "    2. accuracy: 0.93\n",
    "    3. average F1: 0.94\n",
    "\n",
    "for k = 10:\n",
    "    1. best classifier: Naive Bayes\n",
    "    2. accuracy: 0.896\n",
    "    3. average F1: 0.89\n",
    "\n",
    "for k = 6:\n",
    "    1. best classifier: Naive Bayes\n",
    "    2. accuracy: 0.92\n",
    "    3. average F1: 0.92\n",
    "    \n",
    "for k = 5:\n",
    "    1. best classifier: Naive Bayes\n",
    "    2. accuracy: 0.92\n",
    "    3. average F1: 0.92\n",
    "    \n",
    "for k = 4:\n",
    "    1. best classifier: Naive Bayes & Decision tree\n",
    "    2. accuracy: 0.92\n",
    "    3. average F1: 0.92\n",
    "\n",
    "for k = 3:\n",
    "    1. best classifier: Naive Bayes & Decision tree\n",
    "    2. accuracy: 0.909\n",
    "    3. average F1: 0.91"
   ]
  },
  {
   "cell_type": "markdown",
   "metadata": {
    "deletable": true,
    "editable": true
   },
   "source": [
    "## Task 4 - Try a Variety of Classifiers"
   ]
  },
  {
   "cell_type": "code",
   "execution_count": 18,
   "metadata": {
    "collapsed": false,
    "deletable": true,
    "editable": true
   },
   "outputs": [
    {
     "name": "stdout",
     "output_type": "stream",
     "text": [
      "['poi', 'salary', 'deferral_payments', 'total_payments', 'loan_advances', 'bonus']\n"
     ]
    }
   ],
   "source": [
    "# Univariate feature selection: SelectKBest selects the K features that are most powerful (where K is a parameter).\n",
    "data = featureFormat(my_dataset, features_list, sort_keys = True)\n",
    "labels, features = targetFeatureSplit(data)\n",
    "\n",
    "# Perform feature selection\n",
    "selector = SelectKBest(k=6) # change k value\n",
    "selector = selector.fit(features, labels)\n",
    "\n",
    "features_selected = [features_list[i+1] for i in selector.get_support(indices=True)]\n",
    "#features_selected=selector.get_support()\n",
    "best_features = []\n",
    "for bool, feature in zip(features_selected, features_list):\n",
    "    if bool:\n",
    "        best_features.append(feature)\n",
    "print best_features"
   ]
  },
  {
   "cell_type": "code",
   "execution_count": 19,
   "metadata": {
    "collapsed": false,
    "deletable": true,
    "editable": true
   },
   "outputs": [],
   "source": [
    "data = featureFormat(my_dataset, best_features, sort_keys = True)\n",
    "labels, features = targetFeatureSplit(data)"
   ]
  },
  {
   "cell_type": "code",
   "execution_count": 20,
   "metadata": {
    "collapsed": false,
    "deletable": true,
    "editable": true
   },
   "outputs": [
    {
     "data": {
      "text/plain": [
       "'\\nhold out 25% of the data for testing and set the random_state parameter to 42 \\n(random_state controls which points go into the training set and which are used for testing; \\nsetting it to 42 means we know exactly which events are in which set, and can check the results you get).\\n'"
      ]
     },
     "execution_count": 20,
     "metadata": {},
     "output_type": "execute_result"
    }
   ],
   "source": [
    "### Task 4: Try a varity of classifiers\n",
    "### Please name your classifier clf for easy export below.\n",
    "### Note that if you want to do PCA or other multi-stage operations,\n",
    "### you'll need to use Pipelines. For more info: http://scikit-learn.org/stable/modules/pipeline.html\n",
    "\n",
    "# Split into a training and testing set\n",
    "features_train, features_test, labels_train, labels_test = train_test_split(features, labels, test_size=0.2, random_state=42)\n",
    "\n",
    "\"\"\"\n",
    "hold out 25% of the data for testing and set the random_state parameter to 42 \n",
    "(random_state controls which points go into the training set and which are used for testing; \n",
    "setting it to 42 means we know exactly which events are in which set, and can check the results you get).\n",
    "\"\"\""
   ]
  },
  {
   "cell_type": "markdown",
   "metadata": {
    "deletable": true,
    "editable": true
   },
   "source": [
    "### Naive Bayes"
   ]
  },
  {
   "cell_type": "code",
   "execution_count": 21,
   "metadata": {
    "collapsed": false,
    "deletable": true,
    "editable": true
   },
   "outputs": [
    {
     "name": "stdout",
     "output_type": "stream",
     "text": [
      "training time: 0.032 s\n",
      "prediction time: 0.002 s\n",
      "---------\n",
      "Accuracy score:  0.92\n",
      "\n",
      " Classification Report:\n",
      "             precision    recall  f1-score   support\n",
      "\n",
      "    Not POI       0.96      0.96      0.96        24\n",
      "        POI       0.00      0.00      0.00         1\n",
      "\n",
      "avg / total       0.92      0.92      0.92        25\n",
      "\n"
     ]
    }
   ],
   "source": [
    "from sklearn.metrics import classification_report\n",
    "from sklearn.naive_bayes import GaussianNB\n",
    "from sklearn.metrics import precision_score\n",
    "from sklearn.metrics import recall_score\n",
    "clf = GaussianNB() #random_state = 42 put the same random state for every clf, to compare their performance on the same data\n",
    "\n",
    "t0 = time()\n",
    "clf.fit(features_train, labels_train)\n",
    "print \"training time:\", round(time()-t0, 3), \"s\"\n",
    "\n",
    "t0 = time()\n",
    "pred = clf.predict(features_test)\n",
    "print \"prediction time:\", round(time()-t0, 3), \"s\"\n",
    "print \"---------\"\n",
    "\n",
    "print \"Accuracy score: \", accuracy_score(pred, labels_test)\n",
    "\n",
    "#precision = precision_score(labels_test, pred)\n",
    "#print \"Precision: \", precision\n",
    "\n",
    "#recall = recall_score(labels_test, pred)\n",
    "#print \"Recall: \", recall\n",
    "\n",
    "# Calculate F1 score:\n",
    "#f1 = 2 * (precision * recall) / (precision + recall)\n",
    "#print \"The F1 score is: \", f1\n",
    "\n",
    "target_names = [\"Not POI\", \"POI\"]\n",
    "classification = classification_report(y_true=labels_test, y_pred=pred, target_names=target_names)\n",
    "print '\\n Classification Report:'\n",
    "print classification"
   ]
  },
  {
   "cell_type": "markdown",
   "metadata": {
    "deletable": true,
    "editable": true
   },
   "source": [
    "As a reminder:\n",
    "1. Precision = [true positives] / [true positives + false positives] <=> in 95% of the cases our model predicted that a person was not a POI, it was right.\n",
    "2. Recall = [true positives] / [true positives + false negatives] <=> our model found 0% of the POI in our dataset.\n",
    "\n",
    "This is an interesting result: it shows that our classifier has been underpredicting the number of POIs in the dataset; while it got almost all the proven non-POIs right; it also failed to identify several any POIs.\n",
    "\n",
    "Taking a weighted average of precision and recall, we obtain a F1 score of 0.91 (the closer to 1 the F1 score gets, the better is our model at predicting if a person is a POI or not).\n"
   ]
  },
  {
   "cell_type": "markdown",
   "metadata": {
    "deletable": true,
    "editable": true
   },
   "source": [
    "The precision and recall metrics are better peformance indicators than accuracy in our case, because of the class imbalance problem in our dataset. Class imbalance refers to the fact that we have very few POIs compared to the total number of employees in our dataset.\n",
    "\n",
    "Because the goal of our model is to serve as a POI-identifier, we want to catch as many POIs as possible, even though the potential cost to this would be to mistakingly identify some non-POIs as POIs. Because of this, the usual accuracy metric is a poor performance indicator in the case of a class imbalance situation: to maximise accuracy, our model could very well never flag a POI person, as this occurs only 34 times out of 146, or in 23% of the cases.\n",
    "\n",
    "Therefore, the performance metrics we will focus on for the remainder if this notebook are precision and recall (and therefore f1 score)."
   ]
  },
  {
   "cell_type": "markdown",
   "metadata": {
    "deletable": true,
    "editable": true
   },
   "source": [
    "### Random Forest"
   ]
  },
  {
   "cell_type": "code",
   "execution_count": 22,
   "metadata": {
    "collapsed": false,
    "deletable": true,
    "editable": true
   },
   "outputs": [
    {
     "name": "stdout",
     "output_type": "stream",
     "text": [
      "training time: 0.083 s\n",
      "prediction time: 0.014 s\n",
      "---------\n",
      "Accuracy score:  0.92\n",
      "\n",
      " Classification Report:\n",
      "             precision    recall  f1-score   support\n",
      "\n",
      "    Not POI       0.96      0.96      0.96        24\n",
      "        POI       0.00      0.00      0.00         1\n",
      "\n",
      "avg / total       0.92      0.92      0.92        25\n",
      "\n"
     ]
    }
   ],
   "source": [
    "from sklearn.ensemble import RandomForestClassifier\n",
    "\n",
    "clf = RandomForestClassifier(random_state = 42)\n",
    "\n",
    "t0 = time()\n",
    "clf = clf.fit(features_train, labels_train)\n",
    "print \"training time:\", round(time()-t0, 3), \"s\"\n",
    "\n",
    "t0 = time()\n",
    "pred = clf.predict(features_test)\n",
    "print \"prediction time:\", round(time()-t0, 3), \"s\"\n",
    "print \"---------\"\n",
    "\n",
    "print \"Accuracy score: \", accuracy_score(pred, labels_test)\n",
    "\n",
    "#precision = precision_score(labels_test, pred)\n",
    "#print \"Precision: \", precision\n",
    "\n",
    "#recall = recall_score(labels_test, pred)\n",
    "#print \"Recall: \", recall\n",
    "\n",
    "# Calculate F1 score:\n",
    "#f1 = 2 * (precision * recall) / (precision + recall)\n",
    "#print \"The F1 score is: \", f1\n",
    "\n",
    "target_names = [\"Not POI\", \"POI\"]\n",
    "classification = classification_report(y_true=labels_test, y_pred=pred, target_names=target_names)\n",
    "print '\\n Classification Report:'\n",
    "print classification"
   ]
  },
  {
   "cell_type": "markdown",
   "metadata": {
    "deletable": true,
    "editable": true
   },
   "source": [
    "### Decision Tree"
   ]
  },
  {
   "cell_type": "code",
   "execution_count": 23,
   "metadata": {
    "collapsed": false,
    "deletable": true,
    "editable": true
   },
   "outputs": [
    {
     "name": "stdout",
     "output_type": "stream",
     "text": [
      "training time: 0.002 s\n",
      "prediction time: 0.001 s\n",
      "---------\n",
      "Accuracy score:  0.8\n",
      "\n",
      " Classification Report:\n",
      "             precision    recall  f1-score   support\n",
      "\n",
      "    Not POI       0.95      0.83      0.89        24\n",
      "        POI       0.00      0.00      0.00         1\n",
      "\n",
      "avg / total       0.91      0.80      0.85        25\n",
      "\n"
     ]
    }
   ],
   "source": [
    "from sklearn import tree\n",
    "\n",
    "clf = tree.DecisionTreeClassifier(random_state=42)\n",
    "\n",
    "t0 = time()\n",
    "clf = clf.fit(features_train, labels_train)\n",
    "print \"training time:\", round(time()-t0, 3), \"s\"\n",
    "\n",
    "t0 = time()\n",
    "pred = clf.predict(features_test)\n",
    "print \"prediction time:\", round(time()-t0, 3), \"s\"\n",
    "print \"---------\"\n",
    "\n",
    "print \"Accuracy score: \", accuracy_score(pred, labels_test)\n",
    "\n",
    "#precision = precision_score(labels_test, pred)\n",
    "#print \"Precision: \", precision\n",
    "\n",
    "#recall = recall_score(labels_test, pred)\n",
    "#print \"Recall: \", recall\n",
    "\n",
    "# Calculate F1 score:\n",
    "#f1 = 2 * (precision * recall) / (precision + recall)\n",
    "#print \"The F1 score is: \", f1\n",
    "\n",
    "target_names = [\"Not POI\", \"POI\"]\n",
    "classification = classification_report(y_true=labels_test, y_pred=pred, target_names=target_names)\n",
    "print '\\n Classification Report:'\n",
    "print classification"
   ]
  },
  {
   "cell_type": "markdown",
   "metadata": {
    "deletable": true,
    "editable": true
   },
   "source": [
    "### AdaBoost"
   ]
  },
  {
   "cell_type": "code",
   "execution_count": 24,
   "metadata": {
    "collapsed": false,
    "deletable": true,
    "editable": true
   },
   "outputs": [
    {
     "name": "stdout",
     "output_type": "stream",
     "text": [
      "training time: 0.281 s\n",
      "prediction time: 0.01 s\n",
      "---------\n",
      "Accuracy score:  0.88\n",
      "\n",
      " Classification Report:\n",
      "             precision    recall  f1-score   support\n",
      "\n",
      "    Not POI       0.96      0.92      0.94        24\n",
      "        POI       0.00      0.00      0.00         1\n",
      "\n",
      "avg / total       0.92      0.88      0.90        25\n",
      "\n"
     ]
    }
   ],
   "source": [
    "from sklearn.ensemble import AdaBoostClassifier\n",
    "\n",
    "clf = AdaBoostClassifier(random_state=42) #algorithm='SAMME.R', base_estimator=None, learning_rate=1.0, n_estimators=50\n",
    "\n",
    "t0 = time()\n",
    "clf = clf.fit(features_train, labels_train)\n",
    "print \"training time:\", round(time()-t0, 3), \"s\"\n",
    "\n",
    "t0 = time()\n",
    "pred = clf.predict(features_test)\n",
    "print \"prediction time:\", round(time()-t0, 3), \"s\"\n",
    "print \"---------\"\n",
    "\n",
    "print \"Accuracy score: \", accuracy_score(pred, labels_test)\n",
    "\n",
    "#precision = precision_score(labels_test, pred)\n",
    "#print \"Precision: \", precision\n",
    "\n",
    "#recall = recall_score(labels_test, pred)\n",
    "#print \"Recall: \", recall\n",
    "\n",
    "# Calculate F1 score:\n",
    "#f1 = 2 * (precision * recall) / (precision + recall)\n",
    "#print \"The F1 score is: \", f1\n",
    "\n",
    "target_names = [\"Not POI\", \"POI\"]\n",
    "classification = classification_report(y_true=labels_test, y_pred=pred, target_names=target_names)\n",
    "print '\\n Classification Report:'\n",
    "print classification"
   ]
  },
  {
   "cell_type": "code",
   "execution_count": 25,
   "metadata": {
    "collapsed": false,
    "deletable": true,
    "editable": true
   },
   "outputs": [
    {
     "name": "stdout",
     "output_type": "stream",
     "text": [
      "[['0', '0.3']]\n",
      "[['0', '0.3']]\n",
      "[['0', '0.3'], ['2', '0.44']]\n",
      "[['0', '0.3'], ['2', '0.44']]\n",
      "[['0', '0.3'], ['2', '0.44']]\n"
     ]
    }
   ],
   "source": [
    "#print clf.feature_importances_\n",
    "\n",
    "important_features = []\n",
    "for x,i in enumerate(clf.feature_importances_):\n",
    "    if i>0.2:\n",
    "        important_features.append([str(x),str(i)])\n",
    "        #print (x,i)\n",
    "    print important_features\n"
   ]
  },
  {
   "cell_type": "markdown",
   "metadata": {},
   "source": [
    "### Feature Scaling"
   ]
  },
  {
   "cell_type": "markdown",
   "metadata": {},
   "source": [
    "The idea behind feature scaling, also called data normalization, is to make sure the parameters of our algorithms are on a similar scale. This is especially useful when parameters can take large ranges of values.\n",
    "\n",
    "While Naive Bayes and tree algorithms perform feature scaling by design, other algorithms may require manual feature scaling by the user. This is the case of the classifiers calculating the distance between two points by the Euclidian distance, for instance K nearest neighbors: as KNN measures the distance between pairs of samples, if there is a big difference in the units used for the variables, some features will be more impactful than others in the measurement of that distance and will automatically be identified by the algorithm as the biggest drivers of that distance. Therefore, the range of all features should be normalized so that each feature contributes approximately proportionately to the final distance.\n",
    "\n",
    "Another benefit of feature scaling is that gradient descent can be performed more quickly."
   ]
  },
  {
   "cell_type": "markdown",
   "metadata": {},
   "source": [
    "### Conclusion"
   ]
  },
  {
   "cell_type": "markdown",
   "metadata": {
    "deletable": true,
    "editable": true
   },
   "source": [
    "From running our algorithms with different values for k, we can see that Naive Bayes and Decision tree seem to be equally good at predicting if a person is a POI. We do not need to apply feature scaling to those classifiers as it is already done by design.\n",
    "\n",
    "Let's now apply parameter tuning to this, using GridSearchCV."
   ]
  },
  {
   "cell_type": "markdown",
   "metadata": {
    "deletable": true,
    "editable": true
   },
   "source": [
    "## Task 5 - Tune the Classifier"
   ]
  },
  {
   "cell_type": "markdown",
   "metadata": {
    "deletable": true,
    "editable": true
   },
   "source": [
    "### Parameter Tuning"
   ]
  },
  {
   "cell_type": "markdown",
   "metadata": {
    "deletable": true,
    "editable": true
   },
   "source": [
    "For the remainder of this document, I'll choose a decision tree as my classifier. Decision trees have several hyperparameters: criterion, max_features, max_depth, min_sample_split, etc. Depending on how they are set up, all of those parameters can greatly impact the quality of our model. In the previous section, they were all set to default; in this section, I am going to identify the optimal value for them using GridSearchCV."
   ]
  },
  {
   "cell_type": "markdown",
   "metadata": {
    "deletable": true,
    "editable": true
   },
   "source": [
    "**Notes on GridSearchCV from the forum:**\n",
    "1. Accuracy is the default metric used by GridSearchCV, but isn't a particularly good one for this project. It's fairly easy to get high accuracy even if you're just predicting \"non-poi\" for everything. So I'd advise setting GridSearchCV's scoring argument to \"f1\", which will use the f1 score.\n",
    "2. By default, GridSearchCV uses KFold to partition its various internal train-test splits. However, this isn't a great strategy for this project because of the small amount of data present. For instance, it's possible to end up with a split that has almost no pois using this type of cross validation, which could lead to incorrect best parameters. To solve this, I'd suggest using StratifiedShuffleSplit, which ensures that a good amount of pois and non-pois will end up in the data.\n",
    "3. You should always test the default parameters with GridSearchCV, unless you know that they don't work. For instance, max_depth and max_features are None by default, so you should definitely try that value when testing in case it's better than all of the alternative values that you're testing.\n",
    "\n",
    "https://discussions.udacity.com/t/working-on-final-project-gridsearchcv-suggested-parameters-leads-to-lesser-accuracy-precision-and-recall/245829/2"
   ]
  },
  {
   "cell_type": "code",
   "execution_count": 26,
   "metadata": {
    "collapsed": false,
    "deletable": true,
    "editable": true
   },
   "outputs": [
    {
     "name": "stdout",
     "output_type": "stream",
     "text": [
      "['poi', 'salary', 'deferral_payments', 'total_payments', 'loan_advances', 'bonus', 'restricted_stock_deferred', 'deferred_income', 'total_stock_value', 'expenses', 'exercised_stock_options', 'other', 'long_term_incentive', 'restricted_stock', 'director_fees', 'to_messages', 'from_poi_to_this_person', 'from_messages', 'from_this_person_to_poi', 'shared_receipt_with_poi', 'fraction_to_poi', 'fraction_from_poi', 'fraction_total_poi']\n"
     ]
    }
   ],
   "source": [
    "### Apply GridSearchCV using all the features available to have it issue the recommended number of features\n",
    "features_list = poi_label + financial_features + email_features + ['fraction_to_poi'] + ['fraction_from_poi'] + ['fraction_total_poi']\n",
    "data = featureFormat(my_dataset, features_list, sort_keys = True)\n",
    "labels, features = targetFeatureSplit(data)\n",
    "\n",
    "print features_list"
   ]
  },
  {
   "cell_type": "code",
   "execution_count": 27,
   "metadata": {
    "collapsed": false,
    "deletable": true,
    "editable": true
   },
   "outputs": [
    {
     "name": "stderr",
     "output_type": "stream",
     "text": [
      "C:\\Users\\Flo\\Anaconda2\\lib\\site-packages\\sklearn\\metrics\\classification.py:1113: UndefinedMetricWarning: F-score is ill-defined and being set to 0.0 due to no predicted samples.\n",
      "  'precision', 'predicted', average, warn_for)\n"
     ]
    },
    {
     "name": "stdout",
     "output_type": "stream",
     "text": [
      "Best Score: 0.536666666667\n",
      "Best params: {'max_features': 7, 'min_samples_split': 14, 'criterion': 'gini', 'max_depth': 12}\n"
     ]
    }
   ],
   "source": [
    "### Task 5: Tune your classifier to achieve better than .3 precision and recall using our testing script. \n",
    "###Check the tester.py script in the final project folder for details on the evaluation method, especially the test_classifier\n",
    "### function. Because of the small size of the dataset, the script uses stratified shuffle split cross validation. \n",
    "###For more info: http://scikit-learn.org/stable/modules/generated/sklearn.cross_validation.StratifiedShuffleSplit.html\n",
    "\n",
    "from sklearn.cross_validation import train_test_split\n",
    "features_train, features_test, labels_train, labels_test = train_test_split(features, labels, test_size=0.2, random_state=42)\n",
    "\n",
    "from sklearn.model_selection import GridSearchCV\n",
    "from sklearn.model_selection import StratifiedShuffleSplit\n",
    "\n",
    "folds = 10\n",
    "sss = StratifiedShuffleSplit(folds, random_state = 42) #test_size = 0.2\n",
    "\n",
    "#create a dictionary with all the parameters we want to search through\n",
    "parameters={'criterion': ('gini', 'entropy'),'min_samples_split' : range(4,40,2),'max_depth': range(4,20,2), \n",
    "            'max_features': range(3,12,1)} #'random_state': range(2,100,2)\n",
    "clf_tree = tree.DecisionTreeClassifier() #random_state = 42\n",
    "gridsearch = GridSearchCV(clf_tree, param_grid = parameters, cv=sss, scoring=\"f1\") \n",
    "gridsearch.fit(features_train, labels_train)\n",
    "\n",
    "print \"Best Score: {}\".format(gridsearch.best_score_)\n",
    "print \"Best params: {}\".format(gridsearch.best_params_)"
   ]
  },
  {
   "cell_type": "markdown",
   "metadata": {
    "deletable": true,
    "editable": true
   },
   "source": [
    "Above are listed the optimal parameters for our decision tree; let's apply them and re-run our algorithm to compare our new accuracy and f1 score to the ones obtained in Task 4."
   ]
  },
  {
   "cell_type": "markdown",
   "metadata": {
    "deletable": true,
    "editable": true
   },
   "source": [
    "### Validation"
   ]
  },
  {
   "cell_type": "markdown",
   "metadata": {
    "deletable": true,
    "editable": true
   },
   "source": [
    "Finally, we can validate our model by deploying it on a testing dataset, to see how our model performs with unknown data points. This is what we've been doing all along in this notebook using train_test_split.\n",
    "\n",
    "To adress the class imbalance problem (very low number of POIs compared to the total number of employees in our dataset), I will use cross validation with a stratified shuffle split for the validation process.\n",
    "\n",
    "Cross-validation will solve the issue that we had earlier in this project, which is that our datapoints saved for testing with a train_test_split are lost for training, while we have very few POIs to train on to start with. K-fold cross-validation will partition the data into k bins of equal size, and run k separate learning experiments to then average the results, and this is also what is used in stratified shuffle split cross-validation.\n",
    "StratifiedShuffleSplit will ensure that percentage of samples for each class are preserved throughout the experiments."
   ]
  },
  {
   "cell_type": "code",
   "execution_count": 41,
   "metadata": {
    "collapsed": false,
    "deletable": true,
    "editable": true
   },
   "outputs": [
    {
     "name": "stdout",
     "output_type": "stream",
     "text": [
      "['poi', 'salary', 'deferral_payments', 'total_payments', 'loan_advances', 'bonus', 'restricted_stock_deferred']\n"
     ]
    }
   ],
   "source": [
    "# Apply recommended number of features\n",
    "selector = SelectKBest(k=7) # select k as the recommended number of features\n",
    "selector = selector.fit(features_train, labels_train)\n",
    "\n",
    "features_selected = [features_list[i+1] for i in selector.get_support(indices=True)]\n",
    "#features_selected=selector.get_support()\n",
    "best_features = []\n",
    "for bool, feature in zip(features_selected, features_list):\n",
    "    if bool:\n",
    "        best_features.append(feature)\n",
    "print best_features\n",
    "\n",
    "data = featureFormat(my_dataset, best_features, sort_keys = True)\n",
    "\n",
    "### split into labels and features (this line assumes that the first feature in the array is the label, \n",
    "###which is why \"poi\" must always be first in features_list\n",
    "labels, features = targetFeatureSplit(data)"
   ]
  },
  {
   "cell_type": "code",
   "execution_count": 42,
   "metadata": {
    "collapsed": false,
    "deletable": true,
    "editable": true
   },
   "outputs": [
    {
     "name": "stdout",
     "output_type": "stream",
     "text": [
      "Decision Tree\n",
      "Training time: 0.003 s\n",
      "Predicting time: 0.0 s\n",
      "Accuracy: 0.896551724138\n",
      "\n",
      " Classification Report:\n",
      "             precision    recall  f1-score   support\n",
      "\n",
      "    Not POI       0.89      1.00      0.94        25\n",
      "        POI       1.00      0.25      0.40         4\n",
      "\n",
      "avg / total       0.91      0.90      0.87        29\n",
      "\n"
     ]
    }
   ],
   "source": [
    "print 'Decision Tree'\n",
    "t0 = time()\n",
    "clf = tree.DecisionTreeClassifier(criterion='gini', min_samples_split=14, max_depth=12) #random_state=80\n",
    "clf.fit(features_train, labels_train)\n",
    "print \"Training time:\", round(time()-t0, 3), \"s\"\n",
    "t1 = time()\n",
    "pred = clf.predict(features_test)\n",
    "print \"Predicting time:\", round(time()-t1, 3), \"s\"\n",
    "\n",
    "accuracy = clf.score(features_test, labels_test)\n",
    "print \"Accuracy:\", accuracy\n",
    "\n",
    "#from sklearn.metrics import precision_score\n",
    "#precision = precision_score(labels_test, pred, average='binary')\n",
    "#print \"Precision Score:\", precision\n",
    "\n",
    "#from sklearn.metrics import recall_score\n",
    "#recall = recall_score(labels_test, pred, average='binary')\n",
    "#print \"Recall Score:\", recall\n",
    "\n",
    "target_names = [\"Not POI\", \"POI\"]\n",
    "classification = classification_report(y_true=labels_test, y_pred=pred, target_names=target_names)\n",
    "print '\\n Classification Report:'\n",
    "print classification"
   ]
  },
  {
   "cell_type": "markdown",
   "metadata": {
    "deletable": true,
    "editable": true
   },
   "source": [
    "Finally, we can use tester.py to test our model and verify that precision and recall are > 0.3:"
   ]
  },
  {
   "cell_type": "markdown",
   "metadata": {
    "deletable": true,
    "editable": true
   },
   "source": [
    "## Task 6 - Export Files for Submission"
   ]
  },
  {
   "cell_type": "code",
   "execution_count": 44,
   "metadata": {
    "collapsed": true,
    "deletable": true,
    "editable": true
   },
   "outputs": [],
   "source": [
    "### Task 6: Dump your classifier, dataset, and features_list so anyone can\n",
    "### check your results. You do not need to change anything below, but make sure\n",
    "### that the version of poi_id.py that you submit can be run on its own and\n",
    "### generates the necessary .pkl files for validating your results.\n",
    "\n",
    "dump_classifier_and_data(clf, my_dataset, features_list)"
   ]
  },
  {
   "cell_type": "code",
   "execution_count": 45,
   "metadata": {
    "collapsed": false,
    "deletable": true,
    "editable": true
   },
   "outputs": [
    {
     "name": "stdout",
     "output_type": "stream",
     "text": [
      "DecisionTreeClassifier(class_weight=None, criterion='gini', max_depth=12,\n",
      "            max_features=None, max_leaf_nodes=None,\n",
      "            min_impurity_split=1e-07, min_samples_leaf=1,\n",
      "            min_samples_split=14, min_weight_fraction_leaf=0.0,\n",
      "            presort=False, random_state=None, splitter='best')\n",
      "\tAccuracy: 0.82427\tPrecision: 0.32866\tRecall: 0.30500\tF1: 0.31639\tF2: 0.30946\n",
      "\tTotal predictions: 15000\tTrue positives:  610\tFalse positives: 1246\tFalse negatives: 1390\tTrue negatives: 11754\n",
      "\n"
     ]
    }
   ],
   "source": [
    "# %load tester.py\n",
    "#!/usr/bin/pickle\n",
    "\n",
    "\"\"\" a basic script for importing student's POI identifier,\n",
    "    and checking the results that they get from it \n",
    " \n",
    "    requires that the algorithm, dataset, and features list\n",
    "    be written to my_classifier.pkl, my_dataset.pkl, and\n",
    "    my_feature_list.pkl, respectively\n",
    "\n",
    "    that process should happen at the end of poi_id.py\n",
    "\"\"\"\n",
    "\n",
    "import pickle\n",
    "import sys\n",
    "from sklearn.cross_validation import StratifiedShuffleSplit\n",
    "sys.path.append(\"../tools/\")\n",
    "from feature_format import featureFormat, targetFeatureSplit\n",
    "\n",
    "PERF_FORMAT_STRING = \"\\\n",
    "\\tAccuracy: {:>0.{display_precision}f}\\tPrecision: {:>0.{display_precision}f}\\t\\\n",
    "Recall: {:>0.{display_precision}f}\\tF1: {:>0.{display_precision}f}\\tF2: {:>0.{display_precision}f}\"\n",
    "RESULTS_FORMAT_STRING = \"\\tTotal predictions: {:4d}\\tTrue positives: {:4d}\\tFalse positives: {:4d}\\\n",
    "\\tFalse negatives: {:4d}\\tTrue negatives: {:4d}\"\n",
    "\n",
    "def test_classifier(clf, dataset, feature_list, folds = 1000):\n",
    "    data = featureFormat(dataset, feature_list, sort_keys = True)\n",
    "    labels, features = targetFeatureSplit(data)\n",
    "    cv = StratifiedShuffleSplit(labels, folds, random_state = 42)\n",
    "    true_negatives = 0\n",
    "    false_negatives = 0\n",
    "    true_positives = 0\n",
    "    false_positives = 0\n",
    "    for train_idx, test_idx in cv: \n",
    "        features_train = []\n",
    "        features_test  = []\n",
    "        labels_train   = []\n",
    "        labels_test    = []\n",
    "        for ii in train_idx:\n",
    "            features_train.append( features[ii] )\n",
    "            labels_train.append( labels[ii] )\n",
    "        for jj in test_idx:\n",
    "            features_test.append( features[jj] )\n",
    "            labels_test.append( labels[jj] )\n",
    "        \n",
    "        ### fit the classifier using training set, and test on test set\n",
    "        clf.fit(features_train, labels_train)\n",
    "        predictions = clf.predict(features_test)\n",
    "        for prediction, truth in zip(predictions, labels_test):\n",
    "            if prediction == 0 and truth == 0:\n",
    "                true_negatives += 1\n",
    "            elif prediction == 0 and truth == 1:\n",
    "                false_negatives += 1\n",
    "            elif prediction == 1 and truth == 0:\n",
    "                false_positives += 1\n",
    "            elif prediction == 1 and truth == 1:\n",
    "                true_positives += 1\n",
    "            else:\n",
    "                print \"Warning: Found a predicted label not == 0 or 1.\"\n",
    "                print \"All predictions should take value 0 or 1.\"\n",
    "                print \"Evaluating performance for processed predictions:\"\n",
    "                break\n",
    "    try:\n",
    "        total_predictions = true_negatives + false_negatives + false_positives + true_positives\n",
    "        accuracy = 1.0*(true_positives + true_negatives)/total_predictions\n",
    "        precision = 1.0*true_positives/(true_positives+false_positives)\n",
    "        recall = 1.0*true_positives/(true_positives+false_negatives)\n",
    "        f1 = 2.0 * true_positives/(2*true_positives + false_positives+false_negatives)\n",
    "        f2 = (1+2.0*2.0) * precision*recall/(4*precision + recall)\n",
    "        print clf\n",
    "        print PERF_FORMAT_STRING.format(accuracy, precision, recall, f1, f2, display_precision = 5)\n",
    "        print RESULTS_FORMAT_STRING.format(total_predictions, true_positives, false_positives, false_negatives, true_negatives)\n",
    "        print \"\"\n",
    "    except:\n",
    "        print \"Got a divide by zero when trying out:\", clf\n",
    "        print \"Precision or recall may be undefined due to a lack of true positive predicitons.\"\n",
    "\n",
    "CLF_PICKLE_FILENAME = \"my_classifier.pkl\"\n",
    "DATASET_PICKLE_FILENAME = \"my_dataset.pkl\"\n",
    "FEATURE_LIST_FILENAME = \"my_feature_list.pkl\"\n",
    "\n",
    "def dump_classifier_and_data(clf, dataset, feature_list):\n",
    "    with open(CLF_PICKLE_FILENAME, \"w\") as clf_outfile:\n",
    "        pickle.dump(clf, clf_outfile)\n",
    "    with open(DATASET_PICKLE_FILENAME, \"w\") as dataset_outfile:\n",
    "        pickle.dump(dataset, dataset_outfile)\n",
    "    with open(FEATURE_LIST_FILENAME, \"w\") as featurelist_outfile:\n",
    "        pickle.dump(feature_list, featurelist_outfile)\n",
    "\n",
    "def load_classifier_and_data():\n",
    "    with open(CLF_PICKLE_FILENAME, \"r\") as clf_infile:\n",
    "        clf = pickle.load(clf_infile)\n",
    "    with open(DATASET_PICKLE_FILENAME, \"r\") as dataset_infile:\n",
    "        dataset = pickle.load(dataset_infile)\n",
    "    with open(FEATURE_LIST_FILENAME, \"r\") as featurelist_infile:\n",
    "        feature_list = pickle.load(featurelist_infile)\n",
    "    return clf, dataset, feature_list\n",
    "\n",
    "def main():\n",
    "    ### load up student's classifier, dataset, and feature_list\n",
    "    clf, dataset, feature_list = load_classifier_and_data()\n",
    "    ### Run testing script\n",
    "    test_classifier(clf, dataset, feature_list)\n",
    "\n",
    "if __name__ == '__main__':\n",
    "    main()\n"
   ]
  },
  {
   "cell_type": "code",
   "execution_count": null,
   "metadata": {
    "collapsed": true,
    "deletable": true,
    "editable": true
   },
   "outputs": [],
   "source": []
  }
 ],
 "metadata": {
  "kernelspec": {
   "display_name": "Python [conda root]",
   "language": "python",
   "name": "conda-root-py"
  },
  "language_info": {
   "codemirror_mode": {
    "name": "ipython",
    "version": 2
   },
   "file_extension": ".py",
   "mimetype": "text/x-python",
   "name": "python",
   "nbconvert_exporter": "python",
   "pygments_lexer": "ipython2",
   "version": "2.7.12"
  }
 },
 "nbformat": 4,
 "nbformat_minor": 2
}
