{
 "cells": [
  {
   "cell_type": "markdown",
   "metadata": {
    "deletable": true,
    "editable": true
   },
   "source": [
    "# Titanic Project"
   ]
  },
  {
   "cell_type": "markdown",
   "metadata": {
    "deletable": true,
    "editable": true
   },
   "source": [
    "## Background & Research Question"
   ]
  },
  {
   "cell_type": "markdown",
   "metadata": {
    "deletable": true,
    "editable": true
   },
   "source": [
    "This notebook is part of the final project of the Udacity course \"Intro to Data Analysis\". In this notebook I'll apply the concepts learned in class to visualize the Titanic data and test some hypotheses.\n",
    "\n",
    "More specifically, the dataset provided lists the information related to 891 passengers of the Titanic, including - but not limited to - how old those passengers were at the time, what was their name or gender, and whether they survived. Here, I'll look at several of those characteristics to identify what factors made people more likely to survive.\n",
    "\n",
    "**Research question: What factors made people more likely to survive on the Titanic?**\n",
    "\n",
    "Types of graphs produced: stacked plots, bar plots, histograms, density plots.\n",
    "\n",
    "In a second part, I'll set up a machine learning algorithm to try to predict the survival of a passenger using the information we have in the database."
   ]
  },
  {
   "cell_type": "markdown",
   "metadata": {
    "deletable": true,
    "editable": true
   },
   "source": [
    "Notes: \n",
    "\n",
    "Graphs set up using either matplotlib or seaborn. General seaborn tutorial: https://github.com/InsightDataLabs/ipython-notebooks/blob/master/seaborn.ipynb\n",
    "\n",
    "Regarding Machine Learning, I used the following notebooks for help... thanks a ton to their authors !!\n",
    "1. 'A Journey through Titanic' https://www.kaggle.com/omarelgabry/titanic/a-journey-through-titanic/ (also used for visualizations)\n",
    "2. 'Machine Learning for Survival Prediction' https://www.kaggle.com/skywalkerhc/titanic/machine-learning-for-survival-prediction-2\n",
    "3. 'Kaggle-Titanic-001' https://www.kaggle.com/michielkalkman/titanic/kaggle-titanic-001"
   ]
  },
  {
   "cell_type": "markdown",
   "metadata": {
    "deletable": true,
    "editable": true
   },
   "source": [
    "## 1. Set-up"
   ]
  },
  {
   "cell_type": "code",
   "execution_count": 1,
   "metadata": {
    "collapsed": false,
    "deletable": true,
    "editable": true
   },
   "outputs": [
    {
     "name": "stderr",
     "output_type": "stream",
     "text": [
      "C:\\Users\\Flo\\Anaconda2\\lib\\site-packages\\sklearn\\cross_validation.py:44: DeprecationWarning: This module was deprecated in version 0.18 in favor of the model_selection module into which all the refactored classes and functions are moved. Also note that the interface of the new CV iterators are different from that of this module. This module will be removed in 0.20.\n",
      "  \"This module will be removed in 0.20.\", DeprecationWarning)\n"
     ]
    }
   ],
   "source": [
    "# Imports - to run first:\n",
    "import os\n",
    "from decimal import *\n",
    "\n",
    "# pandas\n",
    "import pandas as pd\n",
    "from pandas import Series,DataFrame\n",
    "\n",
    "# unicodecsv\n",
    "import unicodecsv\n",
    "\n",
    "# numpy, matplotlib, seaborn\n",
    "import seaborn as sns\n",
    "%matplotlib inline\n",
    "import matplotlib.pyplot as plt\n",
    "plt.rcParams['figure.figsize'] = (10.0 , 5.0) #set default size for graphs\n",
    "sns.set_style('whitegrid')\n",
    "\n",
    "import numpy as np\n",
    "\n",
    "# machine learning\n",
    "import sklearn\n",
    "from time import time\n",
    "from sklearn.metrics import accuracy_score\n",
    "from sklearn.cross_validation import train_test_split\n",
    "from sklearn.metrics import precision_score\n",
    "from sklearn.metrics import recall_score\n",
    "\n",
    "from sklearn import datasets, linear_model\n",
    "from sklearn.naive_bayes import GaussianNB #for Naive Bayes\n",
    "from sklearn import svm #for SVM\n",
    "from sklearn.svm import SVC #for SVM with 'rbf' kernel\n",
    "from sklearn import tree #for decision trees"
   ]
  },
  {
   "cell_type": "code",
   "execution_count": 2,
   "metadata": {
    "collapsed": false,
    "deletable": true,
    "editable": true
   },
   "outputs": [
    {
     "data": {
      "application/vnd.jupyter.widget-view+json": {
       "model_id": "2c9413b26caa465191579f494497f25f"
      }
     },
     "metadata": {},
     "output_type": "display_data"
    },
    {
     "data": {
      "image/png": "[encoded data removed]",
      "text/plain": [
       "<matplotlib.figure.Figure at 0x3ecf4a8>"
      ]
     },
     "metadata": {},
     "output_type": "display_data"
    }
   ],
   "source": [
    "# Choose color palette for the seaborn graphs for the rest of the notebook:\n",
    "# Import color widget from seaborn:\n",
    "sns.choose_colorbrewer_palette (data_type='sequential', as_cmap=False)\n",
    "# Set color palette below:\n",
    "sns.set_palette(\"YlGnBu\", n_colors=4, desat=None, color_codes=False)\n",
    "\n",
    "# Matplotlib color codes can be found here: http://stackoverflow.com/questions/22408237/named-colors-in-matplotlib"
   ]
  },
  {
   "cell_type": "markdown",
   "metadata": {
    "deletable": true,
    "editable": true
   },
   "source": [
    "### Read the file and clean the data"
   ]
  },
  {
   "cell_type": "code",
   "execution_count": 3,
   "metadata": {
    "collapsed": false,
    "deletable": true,
    "editable": true
   },
   "outputs": [
    {
     "data": {
      "text/html": [
       "<div>\n",
       "<table border=\"1\" class=\"dataframe\">\n",
       "  <thead>\n",
       "    <tr style=\"text-align: right;\">\n",
       "      <th></th>\n",
       "      <th>PassengerId</th>\n",
       "      <th>Survived</th>\n",
       "      <th>Pclass</th>\n",
       "      <th>Name</th>\n",
       "      <th>Sex</th>\n",
       "      <th>Age</th>\n",
       "      <th>SibSp</th>\n",
       "      <th>Parch</th>\n",
       "      <th>Ticket</th>\n",
       "      <th>Fare</th>\n",
       "      <th>Cabin</th>\n",
       "      <th>Embarked</th>\n",
       "    </tr>\n",
       "  </thead>\n",
       "  <tbody>\n",
       "    <tr>\n",
       "      <th>0</th>\n",
       "      <td>1</td>\n",
       "      <td>0</td>\n",
       "      <td>3</td>\n",
       "      <td>Braund, Mr. Owen Harris</td>\n",
       "      <td>male</td>\n",
       "      <td>22.0</td>\n",
       "      <td>1</td>\n",
       "      <td>0</td>\n",
       "      <td>A/5 21171</td>\n",
       "      <td>7.2500</td>\n",
       "      <td>NaN</td>\n",
       "      <td>S</td>\n",
       "    </tr>\n",
       "    <tr>\n",
       "      <th>1</th>\n",
       "      <td>2</td>\n",
       "      <td>1</td>\n",
       "      <td>1</td>\n",
       "      <td>Cumings, Mrs. John Bradley (Florence Briggs Th...</td>\n",
       "      <td>female</td>\n",
       "      <td>38.0</td>\n",
       "      <td>1</td>\n",
       "      <td>0</td>\n",
       "      <td>PC 17599</td>\n",
       "      <td>71.2833</td>\n",
       "      <td>C85</td>\n",
       "      <td>C</td>\n",
       "    </tr>\n",
       "    <tr>\n",
       "      <th>2</th>\n",
       "      <td>3</td>\n",
       "      <td>1</td>\n",
       "      <td>3</td>\n",
       "      <td>Heikkinen, Miss. Laina</td>\n",
       "      <td>female</td>\n",
       "      <td>26.0</td>\n",
       "      <td>0</td>\n",
       "      <td>0</td>\n",
       "      <td>STON/O2. 3101282</td>\n",
       "      <td>7.9250</td>\n",
       "      <td>NaN</td>\n",
       "      <td>S</td>\n",
       "    </tr>\n",
       "    <tr>\n",
       "      <th>3</th>\n",
       "      <td>4</td>\n",
       "      <td>1</td>\n",
       "      <td>1</td>\n",
       "      <td>Futrelle, Mrs. Jacques Heath (Lily May Peel)</td>\n",
       "      <td>female</td>\n",
       "      <td>35.0</td>\n",
       "      <td>1</td>\n",
       "      <td>0</td>\n",
       "      <td>113803</td>\n",
       "      <td>53.1000</td>\n",
       "      <td>C123</td>\n",
       "      <td>S</td>\n",
       "    </tr>\n",
       "    <tr>\n",
       "      <th>4</th>\n",
       "      <td>5</td>\n",
       "      <td>0</td>\n",
       "      <td>3</td>\n",
       "      <td>Allen, Mr. William Henry</td>\n",
       "      <td>male</td>\n",
       "      <td>35.0</td>\n",
       "      <td>0</td>\n",
       "      <td>0</td>\n",
       "      <td>373450</td>\n",
       "      <td>8.0500</td>\n",
       "      <td>NaN</td>\n",
       "      <td>S</td>\n",
       "    </tr>\n",
       "  </tbody>\n",
       "</table>\n",
       "</div>"
      ],
      "text/plain": [
       "   PassengerId  Survived  Pclass  \\\n",
       "0            1         0       3   \n",
       "1            2         1       1   \n",
       "2            3         1       3   \n",
       "3            4         1       1   \n",
       "4            5         0       3   \n",
       "\n",
       "                                                Name     Sex   Age  SibSp  \\\n",
       "0                            Braund, Mr. Owen Harris    male  22.0      1   \n",
       "1  Cumings, Mrs. John Bradley (Florence Briggs Th...  female  38.0      1   \n",
       "2                             Heikkinen, Miss. Laina  female  26.0      0   \n",
       "3       Futrelle, Mrs. Jacques Heath (Lily May Peel)  female  35.0      1   \n",
       "4                           Allen, Mr. William Henry    male  35.0      0   \n",
       "\n",
       "   Parch            Ticket     Fare Cabin Embarked  \n",
       "0      0         A/5 21171   7.2500   NaN        S  \n",
       "1      0          PC 17599  71.2833   C85        C  \n",
       "2      0  STON/O2. 3101282   7.9250   NaN        S  \n",
       "3      0            113803  53.1000  C123        S  \n",
       "4      0            373450   8.0500   NaN        S  "
      ]
     },
     "execution_count": 3,
     "metadata": {},
     "output_type": "execute_result"
    }
   ],
   "source": [
    "titanic_df = pd.read_csv(\"titanic_data.csv\")\n",
    "# Preview the data\n",
    "titanic_df.head()"
   ]
  },
  {
   "cell_type": "code",
   "execution_count": 4,
   "metadata": {
    "collapsed": false,
    "deletable": true,
    "editable": true
   },
   "outputs": [
    {
     "name": "stdout",
     "output_type": "stream",
     "text": [
      "<class 'pandas.core.frame.DataFrame'>\n",
      "RangeIndex: 891 entries, 0 to 890\n",
      "Data columns (total 12 columns):\n",
      "PassengerId    891 non-null int64\n",
      "Survived       891 non-null int64\n",
      "Pclass         891 non-null int64\n",
      "Name           891 non-null object\n",
      "Sex            891 non-null object\n",
      "Age            714 non-null float64\n",
      "SibSp          891 non-null int64\n",
      "Parch          891 non-null int64\n",
      "Ticket         891 non-null object\n",
      "Fare           891 non-null float64\n",
      "Cabin          204 non-null object\n",
      "Embarked       889 non-null object\n",
      "dtypes: float64(2), int64(5), object(5)\n",
      "memory usage: 83.6+ KB\n"
     ]
    }
   ],
   "source": [
    "titanic_df.info()"
   ]
  },
  {
   "cell_type": "markdown",
   "metadata": {
    "deletable": true,
    "editable": true
   },
   "source": [
    "From this I see that we have 891 rows in total, with 3 fields that are not populated everywhere: Age (714 rows filled), Cabin (only 204 rows) and Embarked (889 rows). Not all fields are in the right format as well ('Sex' for instance is an object), I will take care of this too in the next few steps."
   ]
  },
  {
   "cell_type": "markdown",
   "metadata": {
    "deletable": true,
    "editable": true
   },
   "source": [
    "From an overview of the columns and fields available in titanic_df, it looks like the information in some columns is not relevant to our analysis of predicting the survival of a passenger. I would consider those fields to be irrelevant for now:\n",
    "1. PassengerId\n",
    "2. Name\n",
    "3. Ticket\n",
    "4. Cabin\n",
    "5. Embarked\n",
    "\n",
    "I am going to drop those fields in the next step. Then I'll proceed to standardize the remaining data in the dataset before starting the analysis."
   ]
  },
  {
   "cell_type": "code",
   "execution_count": 5,
   "metadata": {
    "collapsed": false,
    "deletable": true,
    "editable": true
   },
   "outputs": [
    {
     "name": "stdout",
     "output_type": "stream",
     "text": [
      "<class 'pandas.core.frame.DataFrame'>\n",
      "RangeIndex: 891 entries, 0 to 890\n",
      "Data columns (total 7 columns):\n",
      "Survived    891 non-null int64\n",
      "Pclass      891 non-null int64\n",
      "Sex         891 non-null object\n",
      "Age         714 non-null float64\n",
      "SibSp       891 non-null int64\n",
      "Parch       891 non-null int64\n",
      "Fare        891 non-null float64\n",
      "dtypes: float64(2), int64(4), object(1)\n",
      "memory usage: 48.8+ KB\n"
     ]
    }
   ],
   "source": [
    "# Removing useless fields:\n",
    "titanic_df = titanic_df.drop(['PassengerId','Name','Ticket','Cabin','Embarked'],axis=1)\n",
    "titanic_df.info()"
   ]
  },
  {
   "cell_type": "markdown",
   "metadata": {
    "deletable": true,
    "editable": true
   },
   "source": [
    "Now let's standardize the data: I will first set a dummy variable for 'Sex', with 0 for male and 1 for female."
   ]
  },
  {
   "cell_type": "code",
   "execution_count": 6,
   "metadata": {
    "collapsed": false,
    "deletable": true,
    "editable": true
   },
   "outputs": [],
   "source": [
    "# Changing the 'Sex' field from string to integer: 0 for male and 1 for female\n",
    "titanic_df.loc[titanic_df[\"Sex\"] == \"male\", \"Sex\"] = 0\n",
    "titanic_df.loc[titanic_df[\"Sex\"] == \"female\", \"Sex\"] = 1\n",
    "# Convert to int\n",
    "titanic_df['Sex'] = titanic_df['Sex'].astype(int)"
   ]
  },
  {
   "cell_type": "markdown",
   "metadata": {
    "deletable": true,
    "editable": true
   },
   "source": [
    "The biggest question now is what to do with the 'Age' field. 177 rows are not populated; excluding them from the analysis will greatly reduce the size of the dataset and possibly impair the training and testing of the machine learning classifiers. On the other hand, assigning random values to those fields might create a bias in the results. After reading through previous submissions I decided to create a new column, 'Age_filled', and fill the empty rows or N/As there with the median age of the passengers. I'll use this column for the classifiers in part 3., but the data visualization can still be done with the original values."
   ]
  },
  {
   "cell_type": "code",
   "execution_count": 7,
   "metadata": {
    "collapsed": false,
    "deletable": true,
    "editable": true
   },
   "outputs": [
    {
     "name": "stdout",
     "output_type": "stream",
     "text": [
      "The median age for Titanic passengers is:  28.0\n"
     ]
    }
   ],
   "source": [
    "# Duplicate 'Age' column\n",
    "titanic_df['Age_filled'] = titanic_df['Age']\n",
    "\n",
    "# Fill N/As in 'Age_filled' column with median values\n",
    "titanic_df['Age_filled'] = titanic_df['Age_filled'].fillna(titanic_df['Age'].median())\n",
    "print \"The median age for Titanic passengers is: \", titanic_df['Age'].median()\n",
    "\n",
    "# Convert from float to int\n",
    "titanic_df['Age_filled'] = titanic_df['Age_filled'].astype(int)"
   ]
  },
  {
   "cell_type": "markdown",
   "metadata": {},
   "source": [
    "Continuing with the age of the passengers, I'll create another column, 'Stage', to identify whether I should consider the passengers as Children (if Age <= 15 years old) or Adults (Age > 15). This will help in the 'Age' section of the analysis later on."
   ]
  },
  {
   "cell_type": "code",
   "execution_count": 8,
   "metadata": {
    "collapsed": false
   },
   "outputs": [
    {
     "data": {
      "text/html": [
       "<div>\n",
       "<table border=\"1\" class=\"dataframe\">\n",
       "  <thead>\n",
       "    <tr style=\"text-align: right;\">\n",
       "      <th></th>\n",
       "      <th>Survived</th>\n",
       "      <th>Pclass</th>\n",
       "      <th>Sex</th>\n",
       "      <th>Age</th>\n",
       "      <th>SibSp</th>\n",
       "      <th>Parch</th>\n",
       "      <th>Fare</th>\n",
       "      <th>Age_filled</th>\n",
       "      <th>Stage</th>\n",
       "    </tr>\n",
       "  </thead>\n",
       "  <tbody>\n",
       "    <tr>\n",
       "      <th>0</th>\n",
       "      <td>0</td>\n",
       "      <td>3</td>\n",
       "      <td>0</td>\n",
       "      <td>22.0</td>\n",
       "      <td>1</td>\n",
       "      <td>0</td>\n",
       "      <td>7.2500</td>\n",
       "      <td>22</td>\n",
       "      <td>Adult</td>\n",
       "    </tr>\n",
       "    <tr>\n",
       "      <th>1</th>\n",
       "      <td>1</td>\n",
       "      <td>1</td>\n",
       "      <td>1</td>\n",
       "      <td>38.0</td>\n",
       "      <td>1</td>\n",
       "      <td>0</td>\n",
       "      <td>71.2833</td>\n",
       "      <td>38</td>\n",
       "      <td>Adult</td>\n",
       "    </tr>\n",
       "    <tr>\n",
       "      <th>2</th>\n",
       "      <td>1</td>\n",
       "      <td>3</td>\n",
       "      <td>1</td>\n",
       "      <td>26.0</td>\n",
       "      <td>0</td>\n",
       "      <td>0</td>\n",
       "      <td>7.9250</td>\n",
       "      <td>26</td>\n",
       "      <td>Adult</td>\n",
       "    </tr>\n",
       "    <tr>\n",
       "      <th>3</th>\n",
       "      <td>1</td>\n",
       "      <td>1</td>\n",
       "      <td>1</td>\n",
       "      <td>35.0</td>\n",
       "      <td>1</td>\n",
       "      <td>0</td>\n",
       "      <td>53.1000</td>\n",
       "      <td>35</td>\n",
       "      <td>Adult</td>\n",
       "    </tr>\n",
       "    <tr>\n",
       "      <th>4</th>\n",
       "      <td>0</td>\n",
       "      <td>3</td>\n",
       "      <td>0</td>\n",
       "      <td>35.0</td>\n",
       "      <td>0</td>\n",
       "      <td>0</td>\n",
       "      <td>8.0500</td>\n",
       "      <td>35</td>\n",
       "      <td>Adult</td>\n",
       "    </tr>\n",
       "  </tbody>\n",
       "</table>\n",
       "</div>"
      ],
      "text/plain": [
       "   Survived  Pclass  Sex   Age  SibSp  Parch     Fare  Age_filled  Stage\n",
       "0         0       3    0  22.0      1      0   7.2500          22  Adult\n",
       "1         1       1    1  38.0      1      0  71.2833          38  Adult\n",
       "2         1       3    1  26.0      0      0   7.9250          26  Adult\n",
       "3         1       1    1  35.0      1      0  53.1000          35  Adult\n",
       "4         0       3    0  35.0      0      0   8.0500          35  Adult"
      ]
     },
     "execution_count": 8,
     "metadata": {},
     "output_type": "execute_result"
    }
   ],
   "source": [
    "# Create new column to identify Children (Age <= 15) vs Adults (Age > 15)\n",
    "titanic_df['Stage'] = np.where(titanic_df['Age_filled'] <= 15, 0, 1)\n",
    "titanic_df['Stage'] = titanic_df.Stage.map({0 : 'Child', 1 : 'Adult'})\n",
    "titanic_df.head()"
   ]
  },
  {
   "cell_type": "markdown",
   "metadata": {
    "deletable": true,
    "editable": true
   },
   "source": [
    "Finally, I'll create three more columns, 'Gender', 'Survival' and 'Class', showing the same information as in 'Sex', 'Survived' and 'Pclass' but with more descriptive labels to help with the visualizations later."
   ]
  },
  {
   "cell_type": "code",
   "execution_count": 9,
   "metadata": {
    "collapsed": false,
    "deletable": true,
    "editable": true
   },
   "outputs": [
    {
     "name": "stdout",
     "output_type": "stream",
     "text": [
      "<class 'pandas.core.frame.DataFrame'>\n",
      "RangeIndex: 891 entries, 0 to 890\n",
      "Data columns (total 12 columns):\n",
      "Survived      891 non-null int64\n",
      "Pclass        891 non-null int64\n",
      "Sex           891 non-null int32\n",
      "Age           714 non-null float64\n",
      "SibSp         891 non-null int64\n",
      "Parch         891 non-null int64\n",
      "Fare          891 non-null float64\n",
      "Age_filled    891 non-null int32\n",
      "Stage         891 non-null object\n",
      "Gender        891 non-null object\n",
      "Survival      891 non-null object\n",
      "Class         891 non-null object\n",
      "dtypes: float64(2), int32(2), int64(4), object(4)\n",
      "memory usage: 76.6+ KB\n"
     ]
    }
   ],
   "source": [
    "# Create Gender Label Column\n",
    "titanic_df['Gender'] = titanic_df.Sex.map({0 : 'Male', 1 : 'Female'})\n",
    "titanic_df.Gender.head()\n",
    "\n",
    "# Create Survival Label Column\n",
    "titanic_df['Survival'] = titanic_df.Survived.map({0 : 'Died', 1 : 'Survived'})\n",
    "titanic_df.Survival.head()\n",
    "\n",
    "# Create Pclass Label Column\n",
    "titanic_df['Class'] = titanic_df.Pclass.map({1 : 'First Class', 2 : 'Second Class', 3 : 'Third Class'})\n",
    "titanic_df.Class.head()\n",
    "\n",
    "titanic_df.info()"
   ]
  },
  {
   "cell_type": "markdown",
   "metadata": {
    "deletable": true,
    "editable": true
   },
   "source": [
    "### Query the Data & Getting used to Panda Dataframes"
   ]
  },
  {
   "cell_type": "code",
   "execution_count": 10,
   "metadata": {
    "collapsed": false,
    "deletable": true,
    "editable": true
   },
   "outputs": [
    {
     "name": "stdout",
     "output_type": "stream",
     "text": [
      "There are 10 potential Jacks in our dataset\n",
      "There are 2 potential Roses in our dataset\n",
      "---------\n",
      "The oldest passenger was 80.0 years old.\n",
      "The youngest passenger was 0.42 years old.\n",
      "---------\n",
      "The cheapest fare cost 0.0 dollars.\n",
      "The most expensive one was 512.3292 dollars.\n",
      "The mean fare was 32.2042079686 dollars.\n"
     ]
    }
   ],
   "source": [
    "# Looking for Jack & Rose - because why not:\n",
    "potential_Jacks = titanic_df[(titanic_df.Sex == 0) & (titanic_df.Pclass == 3) & (titanic_df.Survived == 0) & (titanic_df.Age == 20)].count()\n",
    "potential_Roses = titanic_df[(titanic_df.Sex == 1) & (titanic_df.Pclass == 1) & (titanic_df.Survived == 1) & (titanic_df.Age == 17)].count()\n",
    "print \"There are %s potential Jacks in our dataset\" % (potential_Jacks['Survived'])\n",
    "print \"There are %s potential Roses in our dataset\" % (potential_Roses['Survived'])\n",
    "print \"---------\"\n",
    "\n",
    "# Printing out different passengers:\n",
    "oldest_passenger = titanic_df.loc[titanic_df['Age'].idxmax()]\n",
    "print \"The oldest passenger was %s years old.\" % oldest_passenger['Age']\n",
    "youngest_passenger = titanic_df.loc[titanic_df['Age'].idxmin()]\n",
    "print \"The youngest passenger was %s years old.\" % youngest_passenger['Age']\n",
    "print \"---------\"\n",
    "\n",
    "# Main fares:\n",
    "print \"The cheapest fare cost %s dollars.\" % titanic_df.loc[titanic_df['Fare'].idxmin()]['Fare']\n",
    "print \"The most expensive one was %s dollars.\" % titanic_df.loc[titanic_df['Fare'].idxmax()]['Fare']\n",
    "print \"The mean fare was %s dollars.\" % titanic_df['Fare'].mean()"
   ]
  },
  {
   "cell_type": "markdown",
   "metadata": {
    "deletable": true,
    "editable": true
   },
   "source": [
    "## 2. Data Analysis and Visualization"
   ]
  },
  {
   "cell_type": "markdown",
   "metadata": {
    "deletable": true,
    "editable": true
   },
   "source": [
    "I would consider the following fields to be good predictors of survival on the Titanic - Let's investigate those one by one:\n",
    "1. Gender \"Sex\" \n",
    "2. Class \"Pclass\"\n",
    "3. Age \n",
    "4. Number of siblings on board \"SibSp\"\n",
    "5. Number of children on board \"Parch\""
   ]
  },
  {
   "cell_type": "markdown",
   "metadata": {
    "deletable": true,
    "editable": true
   },
   "source": [
    "### Gender"
   ]
  },
  {
   "cell_type": "code",
   "execution_count": 11,
   "metadata": {
    "collapsed": false,
    "deletable": true,
    "editable": true
   },
   "outputs": [
    {
     "name": "stdout",
     "output_type": "stream",
     "text": [
      "Survival rate of female passengers:  0.742038216561\n",
      "Survival rate of male passengers:  0.188908145581\n"
     ]
    }
   ],
   "source": [
    "female_live = titanic_df[(titanic_df.Sex == 1) & (titanic_df.Survived == 1)].count()\n",
    "male_live = titanic_df[(titanic_df.Sex == 0) & (titanic_df.Survived == 1)].count()\n",
    "female_all = titanic_df[(titanic_df.Sex == 1)].count()\n",
    "male_all = titanic_df[(titanic_df.Sex == 0)].count()\n",
    "\n",
    "print 'Survival rate of female passengers: ', float(female_live['Survived']) / float(female_all['Survived'])\n",
    "print 'Survival rate of male passengers: ', float(male_live['Survived']) / float(male_all['Survived'])"
   ]
  },
  {
   "cell_type": "code",
   "execution_count": 12,
   "metadata": {
    "collapsed": false,
    "deletable": true,
    "editable": true
   },
   "outputs": [
    {
     "data": {
      "image/png": "[encoded data removed]",
      "text/plain": [
       "<matplotlib.figure.Figure at 0xb997f98>"
      ]
     },
     "metadata": {},
     "output_type": "display_data"
    },
    {
     "data": {
      "image/png": "[encoded data removed]",
      "text/plain": [
       "<matplotlib.figure.Figure at 0xba7df60>"
      ]
     },
     "metadata": {},
     "output_type": "display_data"
    }
   ],
   "source": [
    "# Original tutorial on http://matplotlib.org/examples/pylab_examples/bar_stacked.html\n",
    "\n",
    "female_die = female_all['Survived'] - female_live['Survived']\n",
    "male_die = male_all['Survived'] - male_live['Survived']\n",
    "\n",
    "# Version 1: show bars as 'Survived' and 'Did not survive'\n",
    "N = 2\n",
    "women_data = (female_live['Survived'], female_die)\n",
    "men_data = (male_live['Survived'], male_die)\n",
    "ind = np.arange(N)    # the x locations for the groups\n",
    "width = 0.45       # the width of the bars: can also be len(x) sequence\n",
    "\n",
    "p1 = plt.bar(ind, men_data, width, align='center')\n",
    "p2 = plt.bar(ind, women_data, width, bottom=men_data, align='center')\n",
    "\n",
    "plt.get_cmap('YlGnBu')\n",
    "plt.ylabel('Number of Passengers')\n",
    "plt.xticks(ind + width/12., ('Survived', 'Did not survive'))\n",
    "plt.legend((p1[0], p2[0]), ('Men', 'Women'), loc=\"upper left\")\n",
    "plt.title(\"Passengers' Gender per Survival Outcome\", fontsize=16)\n",
    "plt.grid(b=False)\n",
    "plt.show()\n",
    "\n",
    "# Version 2: show bars as 'Men' and 'Women'\n",
    "N = 2\n",
    "live_data = (female_live['Survived'], male_live['Survived'])\n",
    "die_data = (female_die, male_die)\n",
    "ind = np.arange(N)    # the x locations for the groups\n",
    "width = 0.45       # the width of the bars: can also be len(x) sequence\n",
    "\n",
    "p1 = plt.bar(ind, live_data, width, align='center')\n",
    "p2 = plt.bar(ind, die_data, width, bottom=live_data, align='center')\n",
    "\n",
    "plt.get_cmap('YlGnBu')\n",
    "plt.ylabel('Number of Passengers')\n",
    "plt.xticks(ind + width/12., ('Women', 'Men'))\n",
    "plt.legend((p1[0], p2[0]), ('Survived', 'Did not survive'), loc=\"upper left\")\n",
    "plt.title(\"Passengers' Survival Outcome per Gender\", fontsize=16)\n",
    "plt.grid(b=False)\n",
    "plt.show()"
   ]
  },
  {
   "cell_type": "markdown",
   "metadata": {
    "deletable": true,
    "editable": true
   },
   "source": [
    "There seem to be a much better survival rate among women than among men (74.2% vs 18.9%). Two possible explanations are: 1) \"Women and children first\" policy on lifeboats and 2) A higher proportion of women on 1st and 2nd class (which I anticipate have higher survival rates than 3rd class). Let's now investigate the survival rates within classes."
   ]
  },
  {
   "cell_type": "markdown",
   "metadata": {
    "deletable": true,
    "editable": true
   },
   "source": [
    "### Passenger Class"
   ]
  },
  {
   "cell_type": "code",
   "execution_count": 13,
   "metadata": {
    "collapsed": false,
    "deletable": true,
    "editable": true
   },
   "outputs": [
    {
     "name": "stdout",
     "output_type": "stream",
     "text": [
      "First class:  216  Second class:  184  Third class:  491\n",
      "Total number of passengers (should match to 891):  891\n"
     ]
    },
    {
     "data": {
      "text/plain": [
       "<matplotlib.text.Text at 0xc744438>"
      ]
     },
     "execution_count": 13,
     "metadata": {},
     "output_type": "execute_result"
    },
    {
     "data": {
      "image/png": "[encoded data removed]",
      "text/plain": [
       "<matplotlib.figure.Figure at 0xb9978d0>"
      ]
     },
     "metadata": {},
     "output_type": "display_data"
    }
   ],
   "source": [
    "# Divide the Titanic data set into different classes\n",
    "first_class = titanic_df[(titanic_df.Pclass == 1)].count()\n",
    "second_class = titanic_df[(titanic_df.Pclass == 2)].count()\n",
    "third_class = titanic_df[(titanic_df.Pclass == 3)].count()\n",
    "\n",
    "#Check that all rows in the data set have been allocated to a class set:\n",
    "print \"First class: \", first_class['Survived'], \" Second class: \", second_class['Survived'], \" Third class: \", third_class['Survived']\n",
    "print \"Total number of passengers (should match to 891): \", first_class['Survived'] + second_class['Survived'] + third_class['Survived']\n",
    "\n",
    "# Simple bar charts from kaggle notebook https://www.kaggle.com/omarelgabry/titanic/a-journey-through-titanic/\n",
    "# Version 1: simple count\n",
    "sns.countplot(x='Pclass', data=titanic_df, order=[1,2,3])\n",
    "plt.ylabel('Number of Passengers')\n",
    "plt.title(\"Passengers' Repartition per Class\", fontsize=16)"
   ]
  },
  {
   "cell_type": "code",
   "execution_count": 14,
   "metadata": {
    "collapsed": false,
    "deletable": true,
    "editable": true
   },
   "outputs": [
    {
     "name": "stdout",
     "output_type": "stream",
     "text": [
      "136.0 of the first class passengers lived, meaning a survival rate of 0.6296\n",
      "Regarding the second class, 87.0 lived, meaning a survival rate of 0.4728\n",
      "Finally, 119.0 of the third class passengers lived, meaning a survival rate of 0.2424\n"
     ]
    },
    {
     "data": {
      "text/plain": [
       "<matplotlib.text.Text at 0xca2eda0>"
      ]
     },
     "execution_count": 14,
     "metadata": {},
     "output_type": "execute_result"
    },
    {
     "data": {
      "image/png": "[encoded data removed]",
      "text/plain": [
       "<matplotlib.figure.Figure at 0xbd7e518>"
      ]
     },
     "metadata": {},
     "output_type": "display_data"
    }
   ],
   "source": [
    "from decimal import *\n",
    "getcontext().prec = 4\n",
    "\n",
    "# Print out basic distribution and survival rates accross classes:\n",
    "first_survived = titanic_df[(titanic_df.Pclass == 1) & (titanic_df.Survived == 1)].count().astype(float)\n",
    "second_survived = titanic_df[(titanic_df.Pclass == 2) & (titanic_df.Survived == 1)].count().astype(float)\n",
    "third_survived = titanic_df[(titanic_df.Pclass == 3) & (titanic_df.Survived == 1)].count().astype(float)\n",
    "\n",
    "ratio_first_survival = Decimal((first_survived['Survived']) / (first_class['Survived']))\n",
    "ratio_second_survival = Decimal((second_survived['Survived']) / (second_class['Survived']))\n",
    "ratio_third_survival = Decimal((third_survived['Survived']) / (third_class['Survived']))\n",
    "\n",
    "# Note: use %s (and not %d) to show decimal places in survival rates\n",
    "print \"%s of the first class passengers lived, meaning a survival rate of %s\" % (first_survived['Survived'], round(ratio_first_survival,4))\n",
    "print \"Regarding the second class, %s lived, meaning a survival rate of %s\" % (second_survived['Survived'], round(ratio_second_survival,4))\n",
    "print \"Finally, %s of the third class passengers lived, meaning a survival rate of %s\" % (third_survived['Survived'], round(ratio_third_survival,4))\n",
    "\n",
    "# Version 2: with mean\n",
    "# In dataframe: group by class, and get the mean for survived passengers for each value in Class\n",
    "pclass_surv_mean = titanic_df[[\"Pclass\", \"Survived\"]].groupby(['Pclass'],as_index=False).mean()\n",
    "# Plot the total number of passengers per class\n",
    "sns.barplot(x=\"Pclass\", y=\"Survived\", data=pclass_surv_mean, label=\"Total number of passengers\", order=[1,2,3])\n",
    "plt.ylabel('Survival Rate')\n",
    "plt.title(\"Survival Rates per Passengers' Class\", fontsize=16)"
   ]
  },
  {
   "cell_type": "markdown",
   "metadata": {
    "deletable": true,
    "editable": true
   },
   "source": [
    "With a survival rate of 63% for the first class passengers compared to the 24% survival rate of the third class, there seems to be a clear disparity of treatment (and chances of survival) between classes. In fact, the only case where passengers were more likely to survive than perish on the Titanic was if they were first class passengers, as shown on the graph below:"
   ]
  },
  {
   "cell_type": "code",
   "execution_count": 15,
   "metadata": {
    "collapsed": false,
    "deletable": true,
    "editable": true
   },
   "outputs": [
    {
     "data": {
      "text/plain": [
       "<matplotlib.text.Text at 0xb7efcf8>"
      ]
     },
     "execution_count": 15,
     "metadata": {},
     "output_type": "execute_result"
    },
    {
     "data": {
      "image/png": "[encoded data removed]",
      "text/plain": [
       "<matplotlib.figure.Figure at 0x3ee5a20>"
      ]
     },
     "metadata": {},
     "output_type": "display_data"
    }
   ],
   "source": [
    "# Original tutorial on http://seaborn.pydata.org/generated/seaborn.factorplot.html#seaborn.factorplot\n",
    "g = sns.factorplot(\"Survival\", col=\"Class\", col_wrap=3, data=titanic_df, kind=\"count\", size=3, col_order=['First Class','Second Class','Third Class'])\n",
    "#plt.title(\"Number of Passengers per Survival Outcome, Divided by Class\")\n",
    "plt.subplots_adjust(top=0.7)\n",
    "g.fig.suptitle('Number of Passengers per Survival Outcome, Divided by Class', fontsize=16)"
   ]
  },
  {
   "cell_type": "markdown",
   "metadata": {
    "deletable": true,
    "editable": true
   },
   "source": [
    "Let's look again at those graphs, this time comparing the count of men and women in each class:"
   ]
  },
  {
   "cell_type": "code",
   "execution_count": 16,
   "metadata": {
    "collapsed": false,
    "deletable": true,
    "editable": true
   },
   "outputs": [
    {
     "data": {
      "text/plain": [
       "<matplotlib.text.Text at 0xd0380b8>"
      ]
     },
     "execution_count": 16,
     "metadata": {},
     "output_type": "execute_result"
    },
    {
     "data": {
      "image/png": "[encoded data removed]",
      "text/plain": [
       "<matplotlib.figure.Figure at 0xbb33c88>"
      ]
     },
     "metadata": {},
     "output_type": "display_data"
    }
   ],
   "source": [
    "g = sns.factorplot(\"Gender\", col=\"Class\", col_wrap=3, data=titanic_df, kind=\"count\", size=3, col_order=['First Class','Second Class','Third Class'])\n",
    "plt.subplots_adjust(top=0.7)\n",
    "g.fig.suptitle('Gender Repartition Among Passengers, Divided by Class', fontsize=16)"
   ]
  },
  {
   "cell_type": "markdown",
   "metadata": {
    "deletable": true,
    "editable": true
   },
   "source": [
    "As observed above, there was a higher proportion of women in the first and second classes than in the third class. This seems to confirm our hypothesis of earlier and further explain why there is a much better survival rate among women than among men."
   ]
  },
  {
   "cell_type": "markdown",
   "metadata": {
    "deletable": true,
    "editable": true
   },
   "source": [
    "### Age"
   ]
  },
  {
   "cell_type": "code",
   "execution_count": 17,
   "metadata": {
    "collapsed": false,
    "deletable": true,
    "editable": true
   },
   "outputs": [
    {
     "name": "stdout",
     "output_type": "stream",
     "text": [
      "Key metrics:\n",
      "The average age for Titanic passengers was 29.7 years old; the median is 28.0 and the std is 14.5265.\n"
     ]
    },
    {
     "data": {
      "image/png": "[encoded data removed]",
      "text/plain": [
       "<matplotlib.figure.Figure at 0xd49f588>"
      ]
     },
     "metadata": {},
     "output_type": "display_data"
    }
   ],
   "source": [
    "# I'm using the 'Age' column (with NAs) since it is the original data\n",
    "mean_age = titanic_df['Age'].mean()\n",
    "median_age = titanic_df['Age'].median()\n",
    "std_age = titanic_df['Age'].std()\n",
    "print \"Key metrics:\"\n",
    "print \"The average age for Titanic passengers was %s years old; the median is %s and the std is %s.\"% (round(mean_age,2), median_age, round(std_age,4))\n",
    "\n",
    "# Plot Age values on an histogram\n",
    "titanic_df['Age'].hist(bins=80, color='#539caf') #bins=80 as ages range from 0 to 80 years old\n",
    "\n",
    "plt.xlabel('Age')\n",
    "plt.ylabel('Frequency')\n",
    "plt.grid(True)\n",
    "plt.title(\"Histogram - Frequency Distribution of Ages among Passengers\", fontsize=16)\n",
    "plt.show()"
   ]
  },
  {
   "cell_type": "markdown",
   "metadata": {
    "deletable": true,
    "editable": true
   },
   "source": [
    "As per the histogram above, it seems that most of the passengers on the Titanic were in between 15 and 35 years old. Let's smooth this distribution further with a density plot:"
   ]
  },
  {
   "cell_type": "code",
   "execution_count": 18,
   "metadata": {
    "collapsed": false,
    "deletable": true,
    "editable": true
   },
   "outputs": [
    {
     "name": "stderr",
     "output_type": "stream",
     "text": [
      "C:\\Users\\Flo\\Anaconda2\\lib\\site-packages\\statsmodels\\nonparametric\\kde.py:454: RuntimeWarning: invalid value encountered in greater\n",
      "  X = X[np.logical_and(X>clip[0], X<clip[1])] # won't work for two columns.\n",
      "C:\\Users\\Flo\\Anaconda2\\lib\\site-packages\\statsmodels\\nonparametric\\kde.py:454: RuntimeWarning: invalid value encountered in less\n",
      "  X = X[np.logical_and(X>clip[0], X<clip[1])] # won't work for two columns.\n"
     ]
    },
    {
     "data": {
      "text/plain": [
       "<matplotlib.text.Text at 0xbb82e80>"
      ]
     },
     "execution_count": 18,
     "metadata": {},
     "output_type": "execute_result"
    },
    {
     "data": {
      "image/png": "[encoded data removed]",
      "text/plain": [
       "<matplotlib.figure.Figure at 0xce8e5c0>"
      ]
     },
     "metadata": {},
     "output_type": "display_data"
    }
   ],
   "source": [
    "# Density plot. Help on https://stackoverflow.com/questions/4150171/how-to-create-a-density-plot-in-matplotlib/32803224#32803224\n",
    "data = titanic_df['Age']\n",
    "sns.set_style('whitegrid')\n",
    "sns.kdeplot(np.array(data), bw=1.3, color='y', shade=True) # bandwith smoothed to 1.3\n",
    "plt.ylabel('Density Function')\n",
    "plt.xlabel('Age')\n",
    "plt.title(\"Density Function of Age Distribution\", fontsize=16)\n",
    "# https://en.wikipedia.org/wiki/Kernel_density_estimation#Bandwidth_selection"
   ]
  },
  {
   "cell_type": "markdown",
   "metadata": {},
   "source": [
    "Let's investigate further using boxplots and violin plots:"
   ]
  },
  {
   "cell_type": "code",
   "execution_count": 19,
   "metadata": {
    "collapsed": false
   },
   "outputs": [
    {
     "data": {
      "text/plain": [
       "<matplotlib.text.Text at 0xc6ac320>"
      ]
     },
     "execution_count": 19,
     "metadata": {},
     "output_type": "execute_result"
    },
    {
     "data": {
      "image/png": "[encoded data removed]",
      "text/plain": [
       "<matplotlib.figure.Figure at 0xce8e588>"
      ]
     },
     "metadata": {},
     "output_type": "display_data"
    }
   ],
   "source": [
    "fig, axis1 = plt.subplots(figsize=(8,8))\n",
    "sns.boxplot(y=\"Age\", x=\"Survival\", hue=\"Gender\", data=titanic_df)\n",
    "plt.title(\"Age Boxplots, with nested grouping per Gender and Survival Outcome\", fontsize=16)"
   ]
  },
  {
   "cell_type": "markdown",
   "metadata": {},
   "source": [
    "For a more informative view, let's see the full Age distribution with a violin plot:"
   ]
  },
  {
   "cell_type": "code",
   "execution_count": 20,
   "metadata": {
    "collapsed": false,
    "deletable": true,
    "editable": true
   },
   "outputs": [
    {
     "data": {
      "text/plain": [
       "<matplotlib.text.Text at 0xdf445c0>"
      ]
     },
     "execution_count": 20,
     "metadata": {},
     "output_type": "execute_result"
    },
    {
     "data": {
      "image/png": "[encoded data removed]",
      "text/plain": [
       "<matplotlib.figure.Figure at 0xda64748>"
      ]
     },
     "metadata": {},
     "output_type": "display_data"
    }
   ],
   "source": [
    "fig, axis1 = plt.subplots(figsize=(12,4))\n",
    "sns.violinplot(x=\"Age\", y=\"Survival\", data=titanic_df, scale=\"count\")\n",
    "plt.title(\"Violin Plots - Age Distribution per Survival Outcome\", fontsize=16)"
   ]
  },
  {
   "cell_type": "markdown",
   "metadata": {
    "deletable": true,
    "editable": true
   },
   "source": [
    "Let's now look at the survival rates per age:"
   ]
  },
  {
   "cell_type": "code",
   "execution_count": 21,
   "metadata": {
    "collapsed": false,
    "deletable": true,
    "editable": true
   },
   "outputs": [
    {
     "data": {
      "text/plain": [
       "<matplotlib.text.Text at 0xe0486d8>"
      ]
     },
     "execution_count": 21,
     "metadata": {},
     "output_type": "execute_result"
    },
    {
     "data": {
      "image/png": "[encoded data removed]",
      "text/plain": [
       "<matplotlib.figure.Figure at 0xdf23320>"
      ]
     },
     "metadata": {},
     "output_type": "display_data"
    }
   ],
   "source": [
    "# Inspiration from https://www.kaggle.com/omarelgabry/titanic/a-journey-through-titanic\n",
    "# Using Age_filled column to get integers values instead of float\n",
    "fig, axis1 = plt.subplots(figsize=(18,4))\n",
    "average_age_survived = titanic_df[[\"Age_filled\", \"Survived\"]].groupby(['Age_filled'], as_index=False).mean()\n",
    "sns.barplot(x='Age_filled', y='Survived', data=average_age_survived, palette=\"YlGnBu\")\n",
    "plt.ylabel('Survival Rate')\n",
    "plt.title(\"Survival Rate per Age Group\", fontsize=16)"
   ]
  },
  {
   "cell_type": "markdown",
   "metadata": {
    "deletable": true,
    "editable": true
   },
   "source": [
    "From the histogram above, it looks like a higher proportion of passengers were saved if they were at both ends of the Age spectrum - so either children or elderly people. The age group which would be associated with the most physical strength (let's say in between 16 and 45 years old) is paradoxically the one with the lowest survival rate. Again this seems to agree with our previous hypotheses that the main way of survival was the lifeboats, and children (and apparently elderly people) had the priority on those.\n",
    "\n",
    "Let's use our categorical variable \"Stage\" defined earlier to investigate Children vs Adults survival:"
   ]
  },
  {
   "cell_type": "code",
   "execution_count": 22,
   "metadata": {
    "collapsed": false
   },
   "outputs": [
    {
     "name": "stdout",
     "output_type": "stream",
     "text": [
      "There were 83.0 children and 808.0 adults on the Titanic.\n",
      "49.0 children survived (while 34.0 perished); 293.0 adults survived (while 515.0 perished).\n",
      "Children' survival ratio:  0.59\n",
      "Adults' survival ratio:  0.36\n"
     ]
    },
    {
     "data": {
      "image/png": "[encoded data removed]",
      "text/plain": [
       "<matplotlib.figure.Figure at 0xea03748>"
      ]
     },
     "metadata": {},
     "output_type": "display_data"
    }
   ],
   "source": [
    "children_live = titanic_df[(titanic_df.Stage == 'Child') & (titanic_df.Survived == 1)].count().astype(float)\n",
    "adults_live = titanic_df[(titanic_df.Stage == 'Adult') & (titanic_df.Survived == 1)].count().astype(float)\n",
    "children_all = titanic_df[(titanic_df.Stage == 'Child')].count().astype(float)\n",
    "adults_all = titanic_df[(titanic_df.Stage == 'Adult')].count().astype(float)\n",
    "children_die = children_all['Survived'] - children_live['Survived']\n",
    "adults_die = adults_all['Survived'] - adults_live['Survived']\n",
    "\n",
    "print \"There were %s children and %s adults on the Titanic.\" % (children_all['Survived'],adults_all['Survived'])\n",
    "print \"%s children survived (while %s perished); %s adults survived (while %s perished).\" % (children_live['Survived'], children_die, adults_live['Survived'], adults_die)\n",
    "print \"Children' survival ratio: \", round(Decimal((children_live['Survived']) / (children_all['Survived'])),2)\n",
    "print \"Adults' survival ratio: \", round(Decimal(adults_live['Survived'] / adults_all['Survived']),2)\n",
    "\n",
    "N = 2\n",
    "live_data = (children_live['Survived'], adults_live['Survived'])\n",
    "die_data = (children_die, adults_die)\n",
    "ind = np.arange(N)    # the x locations for the groups\n",
    "width = 0.45       # the width of the bars: can also be len(x) sequence\n",
    "\n",
    "p1 = plt.bar(ind, live_data, width, align='center')\n",
    "p2 = plt.bar(ind, die_data, width, bottom=live_data, align='center')\n",
    "\n",
    "plt.get_cmap('YlGnBu')\n",
    "plt.ylabel('Number of Passengers')\n",
    "plt.xticks(ind + width/12., ('Children', 'Adult'))\n",
    "plt.legend((p1[0], p2[0]), ('Survived', 'Did not survive'), loc=\"upper left\")\n",
    "plt.title(\"Children and Adults' Survival Outcome\", fontsize=16)\n",
    "plt.grid(b=False)\n",
    "plt.show()"
   ]
  },
  {
   "cell_type": "markdown",
   "metadata": {},
   "source": [
    "As suspected, children had a much better chance to survive than adults; close to 60% of passengers aged 15 or below lived, while 36% of the rest of the population onboard perished. Let's now see if that luck extends to families as a whole - extending the \"women and children first\" theory to the fathers and husbands. "
   ]
  },
  {
   "cell_type": "markdown",
   "metadata": {
    "deletable": true,
    "editable": true
   },
   "source": [
    "### Family (Siblings & Children)"
   ]
  },
  {
   "cell_type": "markdown",
   "metadata": {
    "deletable": true,
    "editable": true
   },
   "source": [
    "The final indicators of survival I will be looking into before moving on to the Machine Learning part are the ones regarding the number of siblings and children of the passengers.\n",
    "\n",
    "I'll combine the 'SibSp' and 'Parch' datapoints into a 'Family' indicator. The goal here would be to identify if having a family on board made you more or less likely to survive."
   ]
  },
  {
   "cell_type": "code",
   "execution_count": 23,
   "metadata": {
    "collapsed": false,
    "deletable": true,
    "editable": true
   },
   "outputs": [],
   "source": [
    "# Create a new 'Family' column in the dataframe:\n",
    "titanic_df['Family'] =  titanic_df['Parch'] + titanic_df['SibSp']\n",
    "\n",
    "# This column sums up the values in 'Parch' and 'SibSp' columns. \n",
    "# I would like to make it a dummy variable, 0 for no family onboard and 1 for one.\n",
    "titanic_df.loc[titanic_df['Family'] >= 1, 'Family'] = 1\n",
    "titanic_df.loc[titanic_df['Family'] == 0, 'Family'] = 0\n",
    "# Convert to int\n",
    "titanic_df['Family'] = titanic_df['Family'].astype(int)"
   ]
  },
  {
   "cell_type": "code",
   "execution_count": 24,
   "metadata": {
    "collapsed": false,
    "deletable": true,
    "editable": true
   },
   "outputs": [
    {
     "data": {
      "text/plain": [
       "[<matplotlib.text.Text at 0xe64e828>, <matplotlib.text.Text at 0xe702160>]"
      ]
     },
     "execution_count": 24,
     "metadata": {},
     "output_type": "execute_result"
    },
    {
     "data": {
      "image/png": "[encoded data removed]",
      "text/plain": [
       "<matplotlib.figure.Figure at 0xdfb08d0>"
      ]
     },
     "metadata": {},
     "output_type": "display_data"
    }
   ],
   "source": [
    "fig, (axis1,axis2) = plt.subplots(1,2,sharex=True,figsize=(15,5))\n",
    "fig.suptitle(\"Family Impact on Survival Outcomes\", fontsize=16)\n",
    "\n",
    "# Version 1: simple count\n",
    "ax1 = sns.countplot(x='Family', data=titanic_df, order=[1,0], ax=axis1)\n",
    "plt.ylabel('Number of Passengers')\n",
    "ax1.set_title(\"Count of Passengers Travelling Alone or With Family\")\n",
    "\n",
    "# Version 2: with mean\n",
    "# In dataframe: group by class, and get the mean for survived passengers for each value in Class\n",
    "family_surv_mean = titanic_df[[\"Family\", \"Survived\"]].groupby(['Family'],as_index=False).mean()\n",
    "# Plot the total number of passengers per class\n",
    "ax2 = sns.barplot(x=\"Family\", y=\"Survived\", data=family_surv_mean, order=[1,0], ax=axis2)\n",
    "plt.ylabel('Survival Rate')\n",
    "ax2.set_title(\"Survival Rate of Passengers Travelling Alone or With Family\")\n",
    "\n",
    "axis1.set_xticklabels([\"Family\",\"Alone\"], rotation=0)"
   ]
  },
  {
   "cell_type": "markdown",
   "metadata": {
    "deletable": true,
    "editable": true
   },
   "source": [
    "From the bar plots above, while a majority of passengers on the Titanic were travelling alone, the ones with a family were more likely to survive. However, this can again be partly linked to the 'Women and children first' rules for the lifeboats, and also to the fact that 3rd class passengers were more likely to be travelling alone, as a proportion of them were employees on the ship. \n",
    "\n",
    "Next I decide to isolate the types of passengers less likely to survive - that is, adult men - and see if the adult men with a family onboard were indeed more likely to survive."
   ]
  },
  {
   "cell_type": "code",
   "execution_count": 25,
   "metadata": {
    "collapsed": false,
    "deletable": true,
    "editable": true
   },
   "outputs": [
    {
     "name": "stdout",
     "output_type": "stream",
     "text": [
      "There are 411.0 men alone and 166.0 men with family in our dataset.\n",
      "---------\n",
      "Survival rate of men alone:  0.16\n",
      "Survival rate of men with family:  0.27\n"
     ]
    }
   ],
   "source": [
    "# Dividing men above 18 years old into two groups and subgroups: alone / with family, then survived / did not survived:\n",
    "men_alone = titanic_df[(titanic_df.Gender == 'Male') & (titanic_df['Family'] == 0)].count().astype(float)\n",
    "men_family = titanic_df[(titanic_df.Gender == 'Male') & (titanic_df['Family'] == 1)].count().astype(float)\n",
    "men_alone_survived = titanic_df[(titanic_df.Gender == 'Male') & (titanic_df['Family'] == 0) & (titanic_df['Survived'] == 1)].count().astype(float)\n",
    "men_family_survived = titanic_df[(titanic_df.Gender == 'Male') & (titanic_df['Family'] == 1) & (titanic_df['Survived'] == 1)].count().astype(float)\n",
    "\n",
    "print \"There are %s men alone and %s men with family in our dataset.\" % (men_alone['Survived'], men_family['Survived'])\n",
    "print \"---------\"\n",
    "\n",
    "# Survival rates in the two groups:\n",
    "print 'Survival rate of men alone: ', round(Decimal((men_alone_survived['Survived']) / (men_alone['Survived'])),2)\n",
    "print 'Survival rate of men with family: ', round(Decimal((men_family_survived['Survived']) / (men_family['Survived'])),2)"
   ]
  },
  {
   "cell_type": "markdown",
   "metadata": {
    "deletable": true,
    "editable": true
   },
   "source": [
    "With this check, we see that the survival rate of men was a bit better if they were travelling with a family (27% vs 16%). However, having a family or siblings onboard did not seem to bring them the same luck as with the other types of passengers - women and children."
   ]
  },
  {
   "cell_type": "markdown",
   "metadata": {
    "deletable": true,
    "editable": true
   },
   "source": [
    "### Conclusions for the Data Visualization section"
   ]
  },
  {
   "cell_type": "markdown",
   "metadata": {
    "deletable": true,
    "editable": true
   },
   "source": [
    "As a conclusion, the dataset seems to indicate that the factors more likely to ensure survival on the Titanic were, in order of importance: \n",
    "\n",
    "1. Gender (74% of women on the ship survived, versus short of 19% of men).\n",
    "2. Class (63% of 1st class passengers lived, compared to 47% of 2nd class and 24% of 3rd class passengers).\n",
    "3. Age (59% of children aged 15 or below lived, compared to 36% of adults).\n",
    "\n",
    "While this conclusion seems quite coherent with what I was instinctively going for (\"women and children first\" for the lifeboats, proportionnally more women and children travelling in the 1st or 2nd class than in the 3rd class), I'd like to highligt here the limitations of this analysis and point out some possible improvements.\n",
    "\n",
    "**Limits of the dataset:**\n",
    "1. The dataset contains only 891 rows, compared to the 2,300 passengers who were on the Titanic the night of the wreckage.\n",
    "2. There were quite a lot of missing values in the dataset, particularly in the Age column (177 rows not populated).\n",
    "3. Other variables which could be of interest are not included in the dataset; for instance, the location of the passengers' cabins on the ship, compared with the location of the iceberg impact.\n",
    "\n",
    "**Limits of the analysis:**\n",
    "1. Those visualizations are an indicator of correlation, and not causation; further statistical testing would be required to draw definite conclusions.\n",
    "2. The 'Fare' variable could maybe be a loose indicator of the location of the cabins on the ship (the most expensive ones could be located on a certain deck, etc), which could be linked to survival.\n",
    "3. In all plots including Gender, the datapoints do not differentiate between children and adults, which could be diluting our results.\n",
    "\n",
    "**Potential improvements:**\n",
    "One other way to look at this dataset and the survival of the passengers is by using Machine Learning classifiers to estimate accuracy of prediction and rank features importance. This is the last section of this noteboook."
   ]
  },
  {
   "cell_type": "markdown",
   "metadata": {
    "deletable": true,
    "editable": true
   },
   "source": [
    "## 3. Machine Learning"
   ]
  },
  {
   "cell_type": "markdown",
   "metadata": {
    "deletable": true,
    "editable": true
   },
   "source": [
    "Now that we got to explore the dataset manually, let's move on to the Machine Learning section. The goal here is to create classifiers to analyze our dataset further and try to predict the survival state of the Titanic passengers using all the other indicators in the dataset.\n",
    "\n",
    "Ater preparing the dataset and separating the training and testing samples, I'll analyze this dataset with a simple logistic regression model, which will highlight what could be the most important variables for the survival on the Titanic. Then I'll evaluate 3 other different classifiers (Naive Bayes, SVM, and Decision Tree) and compare their respective scores. Finally, I'll regroup what would be the most important features in our dataset according to the best classifier - let's see if it matches with what the regression coefficients suggested !"
   ]
  },
  {
   "cell_type": "markdown",
   "metadata": {
    "deletable": true,
    "editable": true
   },
   "source": [
    "### Dividing the data into test and train datasets"
   ]
  },
  {
   "cell_type": "code",
   "execution_count": 26,
   "metadata": {
    "collapsed": false,
    "deletable": true,
    "editable": true
   },
   "outputs": [],
   "source": [
    "\"\"\"\n",
    "Dividing the data between training and testing datasets: \n",
    "1. Removing 'Survived' from the features (as this is what we are trying to predict)\n",
    "2. Removing 'Age' column to keep only 'Age_filled', and the other 5 columns we created previously ('Survival', 'Gender', 'Class', 'Stage', 'Family')\n",
    "3. Keeping 30% of the data points for a test set\n",
    "\"\"\" \n",
    "from sklearn.cross_validation import train_test_split\n",
    "\n",
    "features = titanic_df.drop([\"Survived\", \"Age\", \"Survival\", \"Gender\", \"Class\", \"Stage\", \"Family\"],axis=1)\n",
    "labels = titanic_df[\"Survived\"]\n",
    "\n",
    "features_train, features_test, labels_train, labels_test = train_test_split(features, labels, test_size=0.3, random_state=42)"
   ]
  },
  {
   "cell_type": "markdown",
   "metadata": {
    "deletable": true,
    "editable": true
   },
   "source": [
    "### Logistic Regression"
   ]
  },
  {
   "cell_type": "code",
   "execution_count": 27,
   "metadata": {
    "collapsed": false,
    "deletable": true,
    "editable": true
   },
   "outputs": [
    {
     "name": "stdout",
     "output_type": "stream",
     "text": [
      "('Intercept:', array([ 1.25902923]))\n",
      "('Score on train data:', 0.7961476725521669)\n",
      "('Score on test data:', 0.80970149253731338)\n",
      "      Features  Coefficient Estimate\n",
      "0       Pclass             -0.806010\n",
      "1          Sex              2.506118\n",
      "2          Age             -0.283182\n",
      "3        SibSp             -0.114789\n",
      "4        Parch              0.004615\n",
      "5         Fare             -0.029833\n",
      "6   Age_filled                   NaN\n",
      "7        Stage                   NaN\n",
      "8       Gender                   NaN\n",
      "9     Survival                   NaN\n",
      "10       Class                   NaN\n",
      "11      Family                   NaN\n"
     ]
    }
   ],
   "source": [
    "from sklearn import datasets, linear_model\n",
    "\n",
    "logreg = linear_model.LogisticRegression()\n",
    "logreg.fit(features_train, labels_train)\n",
    "\n",
    "#print('Coefficient:', logreg.coef_)\n",
    "print('Intercept:', logreg.intercept_)\n",
    "print('Score on train data:', logreg.score(features_train, labels_train))\n",
    "print('Score on test data:', logreg.score(features_test, labels_test))\n",
    "\n",
    "# get Correlation Coefficient for each feature using Logistic Regression\n",
    "coeff_df = DataFrame(titanic_df.columns.delete(0))\n",
    "coeff_df.columns = ['Features']\n",
    "coeff_df[\"Coefficient Estimate\"] = pd.Series(logreg.coef_[0])\n",
    "print coeff_df"
   ]
  },
  {
   "cell_type": "markdown",
   "metadata": {
    "deletable": true,
    "editable": true
   },
   "source": [
    "It seems that a simple logistic regression is already doing pretty well at guessing the survival of the passengers in our testing set: we end up with almost 81% accuracy for the test data.\n",
    "\n",
    "The Coefficient Estimate table, however, is the most interesting here: by comparing the different values for each features, we can easily see that Gender == 1 (female) seems to be the most important variable for survival. Age and Class are the next two in terms of importance; although their coefficients are already much less high. On the other hand, the Parch (number of children) and Fare paid for the cruise have close to zero impact on survival."
   ]
  },
  {
   "cell_type": "markdown",
   "metadata": {
    "deletable": true,
    "editable": true
   },
   "source": [
    "### Naive Bayes"
   ]
  },
  {
   "cell_type": "code",
   "execution_count": 28,
   "metadata": {
    "collapsed": false,
    "deletable": true,
    "editable": true
   },
   "outputs": [
    {
     "name": "stdout",
     "output_type": "stream",
     "text": [
      "training time: 0.002 s\n",
      "prediction time: 0.002 s\n",
      "---------\n",
      "Accuracy score:  0.791044776119\n",
      "Precision:  0.752293577982\n",
      "Recall:  0.738738738739\n",
      "The F1 score is:  0.745454545455\n"
     ]
    }
   ],
   "source": [
    "from sklearn.naive_bayes import GaussianNB\n",
    "from sklearn.metrics import precision_score\n",
    "from sklearn.metrics import recall_score\n",
    "\n",
    "clf = GaussianNB()\n",
    "\n",
    "t0 = time()\n",
    "clf.fit(features_train, labels_train)\n",
    "print \"training time:\", round(time()-t0, 3), \"s\"\n",
    "\n",
    "t0 = time()\n",
    "pred = clf.predict(features_test)\n",
    "print \"prediction time:\", round(time()-t0, 3), \"s\"\n",
    "print \"---------\"\n",
    "\n",
    "print \"Accuracy score: \", accuracy_score(pred, labels_test)\n",
    "\n",
    "precision = precision_score(labels_test, pred)\n",
    "print \"Precision: \", precision\n",
    "\n",
    "recall = recall_score(labels_test, pred)\n",
    "print \"Recall: \", recall\n",
    "\n",
    "# Calculate F1 score:\n",
    "f1 = 2 * (precision * recall) / (precision + recall)\n",
    "print \"The F1 score is: \", f1"
   ]
  },
  {
   "cell_type": "markdown",
   "metadata": {
    "deletable": true,
    "editable": true
   },
   "source": [
    "As a reminder:\n",
    "1. Precision = [true positives] / [true positives + false positives] <=> in 75.9% of the cases our model predicted survival of a passenger, it was right.\n",
    "2. Recall = [true positives] / [true positives + false negatives] <=> our model found 76.5% of the survivors in our dataset.\n",
    "\n",
    "Those two metrics get almost identical scores here, with around 75% of correct values identified in both situations.\n",
    "Taking a weighted average of the two, we obtain a F1 score of 0.7623 (the closer to 1 the F1 score gets, the better is our model at predicting survival).\n"
   ]
  },
  {
   "cell_type": "markdown",
   "metadata": {
    "deletable": true,
    "editable": true
   },
   "source": [
    "### SVM"
   ]
  },
  {
   "cell_type": "code",
   "execution_count": 29,
   "metadata": {
    "collapsed": false,
    "deletable": true,
    "editable": true
   },
   "outputs": [
    {
     "name": "stdout",
     "output_type": "stream",
     "text": [
      "training time: 15.349 s\n",
      "prediction time: 0.002 s\n",
      "---------\n",
      "Accuracy score:  0.791044776119\n",
      "Precision:  0.772277227723\n",
      "Recall:  0.702702702703\n",
      "The F1 score is:  0.735849056604\n"
     ]
    }
   ],
   "source": [
    "from sklearn import svm\n",
    "\n",
    "clf = svm.SVC(kernel = 'linear')\n",
    "t0 = time()\n",
    "clf.fit(features_train, labels_train) \n",
    "print \"training time:\", round(time()-t0, 3), \"s\"\n",
    "\n",
    "t0 = time()\n",
    "pred = clf.predict(features_test)\n",
    "print \"prediction time:\", round(time()-t0, 3), \"s\"\n",
    "print \"---------\"\n",
    "\n",
    "print \"Accuracy score: \", accuracy_score(pred, labels_test)\n",
    "\n",
    "precision = precision_score(labels_test, pred)\n",
    "print \"Precision: \", precision\n",
    "\n",
    "recall = recall_score(labels_test, pred)\n",
    "print \"Recall: \", recall\n",
    "\n",
    "# Calculate F1 score:\n",
    "f1 = 2 * (precision * recall) / (precision + recall)\n",
    "print \"The F1 score is: \", f1"
   ]
  },
  {
   "cell_type": "markdown",
   "metadata": {
    "deletable": true,
    "editable": true
   },
   "source": [
    "This third classifier is by far the longest to train (11 seconds). Accuracy and F1 scores are more or less aligned with the NB's ones, only slightly lower."
   ]
  },
  {
   "cell_type": "markdown",
   "metadata": {
    "deletable": true,
    "editable": true
   },
   "source": [
    "### Decision Tree"
   ]
  },
  {
   "cell_type": "code",
   "execution_count": 30,
   "metadata": {
    "collapsed": false,
    "deletable": true,
    "editable": true
   },
   "outputs": [
    {
     "name": "stdout",
     "output_type": "stream",
     "text": [
      "training time: 0.002 s\n",
      "prediction time: 0.001 s\n",
      "---------\n",
      "Accuracy score:  0.794776119403\n",
      "Precision:  0.85\n",
      "Recall:  0.612612612613\n",
      "The F1 score is:  0.712041884817\n"
     ]
    }
   ],
   "source": [
    "# Setting min_samples_split=40\n",
    "\n",
    "from sklearn import tree\n",
    "\n",
    "clf = tree.DecisionTreeClassifier(min_samples_split=40)\n",
    "\n",
    "t0 = time()\n",
    "clf = clf.fit(features_train, labels_train)\n",
    "print \"training time:\", round(time()-t0, 3), \"s\"\n",
    "\n",
    "t0 = time()\n",
    "pred = clf.predict(features_test)\n",
    "print \"prediction time:\", round(time()-t0, 3), \"s\"\n",
    "print \"---------\"\n",
    "\n",
    "print \"Accuracy score: \", accuracy_score(pred, labels_test)\n",
    "\n",
    "precision = precision_score(labels_test, pred)\n",
    "print \"Precision: \", precision\n",
    "\n",
    "recall = recall_score(labels_test, pred)\n",
    "print \"Recall: \", recall\n",
    "\n",
    "# Calculate F1 score:\n",
    "f1 = 2 * (precision * recall) / (precision + recall)\n",
    "print \"The F1 score is: \", f1"
   ]
  },
  {
   "cell_type": "markdown",
   "metadata": {
    "deletable": true,
    "editable": true
   },
   "source": [
    "Similar observations for the Decision Tree classifier: very quick to train, accuracy almost reaching 80%, and F1 score just above 0.7.\n",
    "\n",
    "Let's have a look at the features importance of this classifier:"
   ]
  },
  {
   "cell_type": "code",
   "execution_count": 31,
   "metadata": {
    "collapsed": false,
    "deletable": true,
    "editable": true
   },
   "outputs": [
    {
     "name": "stdout",
     "output_type": "stream",
     "text": [
      "                 Imp\n",
      "Sex         0.529089\n",
      "Fare        0.170468\n",
      "Pclass      0.169358\n",
      "Age_filled  0.131085\n",
      "SibSp       0.000000\n",
      "Parch       0.000000\n"
     ]
    },
    {
     "name": "stderr",
     "output_type": "stream",
     "text": [
      "C:\\Users\\Flo\\Anaconda2\\lib\\site-packages\\ipykernel\\__main__.py:2: FutureWarning: sort(columns=....) is deprecated, use sort_values(by=.....)\n",
      "  from ipykernel import kernelapp as app\n"
     ]
    },
    {
     "data": {
      "text/plain": [
       "'\\nLonger version - keep for reference:\\nimportant_features = []\\nfor x,i in enumerate(clf.feature_importances_):\\n    if i>0.2:\\n        important_features.append([str(x),str(i)])\\n        #print (x,i)\\n    print important_features\\n'"
      ]
     },
     "execution_count": 31,
     "metadata": {},
     "output_type": "execute_result"
    }
   ],
   "source": [
    "#print clf.feature_importances_\n",
    "print DataFrame(clf.feature_importances_, columns = [\"Imp\"], index = features_train.columns).sort(['Imp'], ascending = False)\n",
    "\n",
    "\"\"\"\n",
    "Longer version - keep for reference:\n",
    "important_features = []\n",
    "for x,i in enumerate(clf.feature_importances_):\n",
    "    if i>0.2:\n",
    "        important_features.append([str(x),str(i)])\n",
    "        #print (x,i)\n",
    "    print important_features\n",
    "\"\"\""
   ]
  },
  {
   "cell_type": "markdown",
   "metadata": {
    "deletable": true,
    "editable": true
   },
   "source": [
    "Again, this is aligned with our coefficient estimates from the Logistic Regression section, with Gender being by far the most important feature (weighting for 52% of the decision for predicting survival). Interestingly however, Fare comes second with this model, while with the regression it was barely considered in our output."
   ]
  },
  {
   "cell_type": "markdown",
   "metadata": {
    "deletable": true,
    "editable": true
   },
   "source": [
    "### Conclusions for the Machine Learning section"
   ]
  },
  {
   "cell_type": "markdown",
   "metadata": {
    "deletable": true,
    "editable": true
   },
   "source": [
    "I successfully implemented and trained a few classifiers on this dataset, reaching an accuracy of 80%. The results are aligned with my conclusions from the Visualizations section that Gender was a key determinant for the suvival of a passenger on Titanic. The other features seem to be of lesser but equally distributed importance. \n",
    "\n",
    "**Note:**\n",
    "It can be interesting to note that in the case of Age, it is possible that the low number of children on the cruiseship may not be correctly reflected in our results here - with Age weighting for 13% of the predicition, while we saw in the Visualzations part that the survival rate among passengers below 18 years old was very high.\n",
    "\n",
    "**Potential Improvements:**\n",
    "In order to get the accuracy score even higher, one possible improvement would be to fine-tune more the parameters of our classifiers, or even implement other, more elaborated classifiers.\n",
    "\n",
    "Additionnally, we can think of training those classifiers on a larger dataset - there were over 2,300 passengers on the Titanic, while our dataset only contains information on 891 of them."
   ]
  }
 ],
 "metadata": {
  "anaconda-cloud": {},
  "kernelspec": {
   "display_name": "Python [conda root]",
   "language": "python",
   "name": "conda-root-py"
  },
  "language_info": {
   "codemirror_mode": {
    "name": "ipython",
    "version": 2
   },
   "file_extension": ".py",
   "mimetype": "text/x-python",
   "name": "python",
   "nbconvert_exporter": "python",
   "pygments_lexer": "ipython2",
   "version": "2.7.12"
  },
  "widgets": {
   "state": {
    "31378e74cf064760890405ecb753a134": {
     "views": [
      {
       "cell_index": 7
      }
     ]
    },
    "e995e31cfba044579f53f6f012e9a32e": {
     "views": [
      {
       "cell_index": 6
      }
     ]
    }
   },
   "version": "1.2.0"
  }
 },
 "nbformat": 4,
 "nbformat_minor": 1
}
